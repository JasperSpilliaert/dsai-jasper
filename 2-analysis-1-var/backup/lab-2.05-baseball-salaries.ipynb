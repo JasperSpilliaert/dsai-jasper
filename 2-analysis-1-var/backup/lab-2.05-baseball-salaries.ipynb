{
  "cells": [
    {
      "cell_type": "markdown",
      "metadata": {
        "id": "dYTxJWJG5miJ"
      },
      "source": [
        "# Lab 2.05 - Univariate Analysis\n"
      ]
    },
    {
      "cell_type": "code",
      "execution_count": 8,
      "metadata": {
        "id": "MvwMKfrI8X-p"
      },
      "outputs": [],
      "source": [
        "# Importing the necessary packages\n",
        "import numpy as np                                  # \"Scientific computing\"\n",
        "import scipy.stats as stats                         # Statistical tests\n",
        "\n",
        "import pandas as pd                                 # Data Frame\n",
        "from pandas.api.types import CategoricalDtype\n",
        "\n",
        "import matplotlib.pyplot as plt                     # Basic visualisation\n",
        "from statsmodels.graphics.mosaicplot import mosaic  # Mosaic diagram\n",
        "import seaborn as sns                               # Advanced data visualisation"
      ]
    },
    {
      "cell_type": "markdown",
      "metadata": {
        "id": "M09gxg4SK4CJ"
      },
      "source": [
        "## Exercise 5 - Baseball Salaries\n",
        "\n",
        "The file Baseball Salaries contains data on 868 Major League Baseball (MLB) players in the 2011 season. There are four variables: the player's name, team, position, and salary. How can these 868 salaries be summarized?\n",
        "\n",
        "- Calculate the mean, the median and the mode (i.e. measures of central tendency)\n",
        "- Calculate the minimum, maximum, quartiles\n",
        "- Calculate the range, interquartile range, variance, standard deviation (i.e. measures of variability)\n",
        "- Calculate the skewness and Kurtosis (i.e. measures of shape)\n",
        "- Draw a histogram. Use 11 bins with equal width. Does it indicate skewness?\n",
        "- Draw a boxplot. Does it indicate skewness?"
      ]
    },
    {
      "cell_type": "code",
      "execution_count": 9,
      "metadata": {
        "colab": {
          "base_uri": "https://localhost:8080/",
          "height": 206
        },
        "id": "aFO1zL_bZ51g",
        "outputId": "e4be8f90-34ae-488d-df3e-b425fe323356"
      },
      "outputs": [
        {
          "data": {
            "text/html": [
              "<div>\n",
              "<style scoped>\n",
              "    .dataframe tbody tr th:only-of-type {\n",
              "        vertical-align: middle;\n",
              "    }\n",
              "\n",
              "    .dataframe tbody tr th {\n",
              "        vertical-align: top;\n",
              "    }\n",
              "\n",
              "    .dataframe thead th {\n",
              "        text-align: right;\n",
              "    }\n",
              "</style>\n",
              "<table border=\"1\" class=\"dataframe\">\n",
              "  <thead>\n",
              "    <tr style=\"text-align: right;\">\n",
              "      <th></th>\n",
              "      <th>Player</th>\n",
              "      <th>Team</th>\n",
              "      <th>Position</th>\n",
              "      <th>Salary</th>\n",
              "    </tr>\n",
              "  </thead>\n",
              "  <tbody>\n",
              "    <tr>\n",
              "      <th>0</th>\n",
              "      <td>A.J. Burnett</td>\n",
              "      <td>New York Yankees</td>\n",
              "      <td>Pitcher</td>\n",
              "      <td>16500000</td>\n",
              "    </tr>\n",
              "    <tr>\n",
              "      <th>1</th>\n",
              "      <td>A.J. Ellis</td>\n",
              "      <td>Los Angeles Dodgers</td>\n",
              "      <td>Catcher</td>\n",
              "      <td>421000</td>\n",
              "    </tr>\n",
              "    <tr>\n",
              "      <th>2</th>\n",
              "      <td>A.J. Pierzynski</td>\n",
              "      <td>Chicago White Sox</td>\n",
              "      <td>Catcher</td>\n",
              "      <td>2000000</td>\n",
              "    </tr>\n",
              "    <tr>\n",
              "      <th>3</th>\n",
              "      <td>Aaron Cook</td>\n",
              "      <td>Colorado Rockies</td>\n",
              "      <td>Pitcher</td>\n",
              "      <td>9875000</td>\n",
              "    </tr>\n",
              "    <tr>\n",
              "      <th>4</th>\n",
              "      <td>Aaron Crow</td>\n",
              "      <td>Kansas City Royals</td>\n",
              "      <td>Pitcher</td>\n",
              "      <td>1400000</td>\n",
              "    </tr>\n",
              "  </tbody>\n",
              "</table>\n",
              "</div>"
            ],
            "text/plain": [
              "            Player                 Team Position    Salary\n",
              "0     A.J. Burnett     New York Yankees  Pitcher  16500000\n",
              "1       A.J. Ellis  Los Angeles Dodgers  Catcher    421000\n",
              "2  A.J. Pierzynski    Chicago White Sox  Catcher   2000000\n",
              "3       Aaron Cook     Colorado Rockies  Pitcher   9875000\n",
              "4       Aaron Crow   Kansas City Royals  Pitcher   1400000"
            ]
          },
          "execution_count": 9,
          "metadata": {},
          "output_type": "execute_result"
        }
      ],
      "source": [
        "bb = pd.read_csv('https://raw.githubusercontent.com/HoGentTIN/dsai-labs/main/data/Baseball%20Salaries%202011.csv', delimiter=\";\")\n",
        "# Show the first few records of the Data Frame\n",
        "bb.head()"
      ]
    },
    {
      "cell_type": "code",
      "execution_count": 10,
      "metadata": {
        "id": "BkLIdzVpbpdg"
      },
      "outputs": [
        {
          "name": "stdout",
          "output_type": "stream",
          "text": [
            "Mean:                3305054.674970344\n",
            "Standard deviation:  4534742.272591988\n",
            "Variance:            20563887478832.742\n",
            "Skewness:            2.2568268174928376\n",
            "Kurtosis:            5.723259126341153\n",
            "Minimum:   414000\n",
            "Median:    1175000.0\n",
            "Maximum:   32000000\n",
            "Percentiles [0.0, 0.25, 0.5, 0.75, 1.0] \n",
            " 0.00      414000.0\n",
            "0.25      430325.0\n",
            "0.50     1175000.0\n",
            "0.75     4306250.0\n",
            "1.00    32000000.0\n",
            "Name: Salary, dtype: float64\n",
            "Inter Quartile Range: 3875925.0\n",
            "Range :    31586000\n"
          ]
        }
      ],
      "source": [
        "# Centrality and dispersion deasures\n",
        "# Mean, standard deviation & friends\n",
        "print(f\"Mean:                {bb['Salary'].mean()}\")\n",
        "print(f\"Standard deviation:  {bb['Salary'].std()}\") # Pay attention: n-1 in the denominator\n",
        "print(f\"Variance:            {bb['Salary'].var()}\") # Pay attention: n-1 in the denominator\n",
        "print(f\"Skewness:            {bb['Salary'].skew()}\")\n",
        "print(f\"Kurtosis:            {bb['Salary'].kurtosis()}\")\n",
        "\n",
        "# Median & co\n",
        "print(f\"Minimum:   {bb['Salary'].min()}\")\n",
        "print(f\"Median:    {bb['Salary'].median()}\")\n",
        "print(f\"Maximum:   {bb['Salary'].max()}\")\n",
        "percentiles = [0.0, 0.25, 0.5, 0.75, 1.0]\n",
        "print(\"Percentiles\", percentiles, \"\\n\", bb['Salary'].quantile(percentiles))\n",
        "print(\"Inter Quartile Range:\", bb['Salary'].quantile(.75) - bb['Salary'].quantile(.25))\n",
        "print(f\"Range :    {bb['Salary'].max() - bb['Salary'].min()}\")"
      ]
    },
    {
      "cell_type": "code",
      "execution_count": 15,
      "metadata": {},
      "outputs": [
        {
          "data": {
            "text/plain": [
              "<seaborn.axisgrid.FacetGrid at 0x148423e2b40>"
            ]
          },
          "execution_count": 15,
          "metadata": {},
          "output_type": "execute_result"
        },
        {
          "data": {
            "image/png": "[encoded data removed]",
            "text/plain": [
              "<Figure size 500x500 with 1 Axes>"
            ]
          },
          "metadata": {},
          "output_type": "display_data"
        }
      ],
      "source": [
        "sns.displot(bb['Salary'], bins=11)"
      ]
    },
    {
      "cell_type": "code",
      "execution_count": 18,
      "metadata": {
        "id": "lV2zlm4lc3FW"
      },
      "outputs": [
        {
          "data": {
            "image/png": "[encoded data removed]",
            "text/plain": [
              "<Figure size 640x480 with 1 Axes>"
            ]
          },
          "metadata": {},
          "output_type": "display_data"
        }
      ],
      "source": [
        "sns.violinplot(data = bb, x = \"Salary\");"
      ]
    },
    {
      "cell_type": "code",
      "execution_count": 17,
      "metadata": {},
      "outputs": [
        {
          "data": {
            "text/plain": [
              "<Axes: xlabel='Salary'>"
            ]
          },
          "execution_count": 17,
          "metadata": {},
          "output_type": "execute_result"
        },
        {
          "data": {
            "image/png": "[encoded data removed]",
            "text/plain": [
              "<Figure size 640x480 with 1 Axes>"
            ]
          },
          "metadata": {},
          "output_type": "display_data"
        }
      ],
      "source": [
        "sns.boxplot(data = bb, x = \"Salary\")"
      ]
    }
  ],
  "metadata": {
    "colab": {
      "provenance": []
    },
    "gpuClass": "standard",
    "kernelspec": {
      "display_name": "Python 3",
      "name": "python3"
    },
    "language_info": {
      "codemirror_mode": {
        "name": "ipython",
        "version": 3
      },
      "file_extension": ".py",
      "mimetype": "text/x-python",
      "name": "python",
      "nbconvert_exporter": "python",
      "pygments_lexer": "ipython3",
      "version": "3.12.2"
    },
    "orig_nbformat": 4
  },
  "nbformat": 4,
  "nbformat_minor": 0
}
