{
 "cells": [
  {
   "cell_type": "code",
   "execution_count": 2,
   "metadata": {},
   "outputs": [],
   "source": [
    "# Importeren van de nodige packages\n",
    "# Vul zelf aan met extra packages als dit nodig is voor de oefeningen!\n",
    "import numpy as np\n",
    "import pandas as pd\n",
    "import scipy.stats as stats\n",
    "import matplotlib.pyplot as plt\n",
    "import seaborn as sns"
   ]
  },
  {
   "cell_type": "markdown",
   "metadata": {},
   "source": [
    "## Testen\n",
    "\n",
    "### 6. Two-Sample T-Test (The t-test for independent samples): \n",
    "\n",
    "- Gebruik deze test wanneer je twee **onafhankelijke groepen** vergelijkt (De groepen moeten **niet gerelateerd** zijn aan elkaar; bijvoorbeeld, mannen versus vrouwen, of mensen die een nieuw medicijn nemen versus mensen die een placebo nemen.).\n",
    "\n",
    "### 7. Paired T-Test (The t-test for paired samples): \n",
    "\n",
    "- Gebruik deze test wanneer je twee gerelateerde metingen vergelijkt, bijvoorbeeld bij dezelfde proefpersonen voor en na een interventie (Gebruik deze test wanneer je de gemiddelden van twee **gerelateerde** groepen wilt vergelijken. Dit gebeurt meestal wanneer de metingen voor en na een bepaalde interventie worden gedaan, of wanneer de gegevens paargewijs gerelateerd zijn, zoals metingen van dezelfde proefpersonen onder verschillende omstandigheden.).\n",
    "\n",
    "#### Onafhankelijke vs afhankelijke variabelen\n",
    "\n",
    "- Onafhankelijke variabele: Dit is de variabele die wordt gemanipuleerd of waarvan de invloed wordt onderzocht.\n",
    "- Afhankelijke variabele: Dit is de variabele die wordt gemeten of geobserveerd om te zien of deze wordt beïnvloed door de onafhankelijke variabele.\n",
    "\n",
    "#### Voorbeeldvragen\n",
    "\n",
    "- Zijn mannelijke pinguïns groter dan vrouwelijke pinguïns?: \n",
    "    - Onafhankelijke variabele: Geslacht van de pinguïn (mannelijk/vrouwelijk)\n",
    "    - Afhankelijke variabele: Grootte van de pinguïn\n",
    "    - Test: Two-sample t-test.\n",
    "        - Waarom: Je vergelijkt de gemiddelde grootte van twee onafhankelijke groepen (mannelijke en vrouwelijke pinguïns).\n",
    "\n",
    "- Krijgen mannen een hoger salaris dan vrouwen?\n",
    "    - Onafhankelijke variabele: Geslacht (man/vrouw)\n",
    "    - Afhankelijke variabele: Salaris\n",
    "    - Test: Two-sample t-test.\n",
    "        - Waarom: Je vergelijkt de gemiddelde salarissen tussen twee onafhankelijke groepen (mannen en vrouwen).\n",
    "\n",
    "- Beschermt een nieuw vaccin tegen een ziekte?\n",
    "    - Onafhankelijke variabele: Toediening van het vaccin (ja/nee)\n",
    "    - Afhankelijke variabele: Bescherming tegen de ziekte (wel/niet geïnfecteerd)\n",
    "    - Test: Paired t-test (in een specifieke context).\n",
    "        - Waarom: Als je bijvoorbeeld dezelfde groep mensen voor en na vaccinatie test om te zien of hun immuniteit is verbeterd, dan vergelijk je gepaarde gegevens (voor en na de vaccinatie). Als het echter om twee onafhankelijke groepen gaat (gevaccineerd vs. niet-gevaccineerd), zou je een two-sample t-test gebruiken.\n",
    "\n",
    "- Verbetert “retrieval practice” de leerresultaten (d.w.z. de cijfers van studenten)?\n",
    "    - Onafhankelijke variabele: Gebruik van “retrieval practice” (ja/nee)\n",
    "    - Afhankelijke variabele: Leerresultaten (cijfers van studenten)\n",
    "    - Test: Paired t-test.\n",
    "        - Waarom: Als je dezelfde groep studenten test voor en na het toepassen van “retrieval practice”, dan werk je met gepaarde gegevens (resultaten voor en na de interventie)."
   ]
  },
  {
   "cell_type": "markdown",
   "metadata": {},
   "source": [
    "----\n",
    "\n",
    "## Question 6 -> paired t-test (The t-test for paired samples)\n",
    "\n",
    "The sample given below contains measurement results of a variable Temperature at two time points (`time1` and `time2`). We want to know whether the measurements at the second time point are significantly different from those at the first time point.\n",
    "\n",
    "Use an appropriate statistical test (with significance level 5%) to verify this statement.\n",
    "\n",
    "1. Visualise the data with an appropriate plot. What can you infer about the research question? Explain.\n",
    "2. What statistical test should you use to answer this research question? Be as specific as possible!\n",
    "3. Formulate the null hypothesis and the alternative hypothesis.\n",
    "4. Calculate the p-value.\n",
    "5. Draw a conclusion based on the previous step and formulate an answer to the research question.\n",
    "6. Give for the observations at time `time1`:\n",
    "    1. The interquartile range\n",
    "    2. The kurtosis\n",
    "    3. The range\n",
    "    4. The standard deviation"
   ]
  },
  {
   "cell_type": "code",
   "execution_count": 2,
   "metadata": {},
   "outputs": [
    {
     "data": {
      "text/html": [
       "<div>\n",
       "<style scoped>\n",
       "    .dataframe tbody tr th:only-of-type {\n",
       "        vertical-align: middle;\n",
       "    }\n",
       "\n",
       "    .dataframe tbody tr th {\n",
       "        vertical-align: top;\n",
       "    }\n",
       "\n",
       "    .dataframe thead th {\n",
       "        text-align: right;\n",
       "    }\n",
       "</style>\n",
       "<table border=\"1\" class=\"dataframe\">\n",
       "  <thead>\n",
       "    <tr style=\"text-align: right;\">\n",
       "      <th></th>\n",
       "      <th>time1</th>\n",
       "      <th>time2</th>\n",
       "    </tr>\n",
       "  </thead>\n",
       "  <tbody>\n",
       "    <tr>\n",
       "      <th>0</th>\n",
       "      <td>65</td>\n",
       "      <td>82</td>\n",
       "    </tr>\n",
       "    <tr>\n",
       "      <th>1</th>\n",
       "      <td>87</td>\n",
       "      <td>91</td>\n",
       "    </tr>\n",
       "    <tr>\n",
       "      <th>2</th>\n",
       "      <td>59</td>\n",
       "      <td>86</td>\n",
       "    </tr>\n",
       "    <tr>\n",
       "      <th>3</th>\n",
       "      <td>71</td>\n",
       "      <td>83</td>\n",
       "    </tr>\n",
       "    <tr>\n",
       "      <th>4</th>\n",
       "      <td>58</td>\n",
       "      <td>85</td>\n",
       "    </tr>\n",
       "  </tbody>\n",
       "</table>\n",
       "</div>"
      ],
      "text/plain": [
       "   time1  time2\n",
       "0     65     82\n",
       "1     87     91\n",
       "2     59     86\n",
       "3     71     83\n",
       "4     58     85"
      ]
     },
     "execution_count": 2,
     "metadata": {},
     "output_type": "execute_result"
    }
   ],
   "source": [
    "temperatures = pd.DataFrame(data={\n",
    "  'time1': [65, 87, 59, 71, 58, 74, 55, 98, 62, 53, 84, 63, 78, 62, 60],\n",
    "  'time2': [82, 91, 86, 83, 85, 51, 65, 61, 76, 65, 53, 70, 51, 55, 68]\n",
    "})\n",
    "temperatures.head()"
   ]
  },
  {
   "cell_type": "code",
   "execution_count": 3,
   "metadata": {},
   "outputs": [
    {
     "name": "stdout",
     "output_type": "stream",
     "text": [
      "p-value is 0.8744\n",
      "Inter Quartile Range: 16.5\n",
      "Kurtosis:            0.15796776764037945\n",
      "Range :    45\n",
      "Standard deviation:  13.09743704481366\n"
     ]
    },
    {
     "data": {
      "image/png": "[encoded data removed]",
      "text/plain": [
       "<Figure size 640x480 with 1 Axes>"
      ]
     },
     "metadata": {},
     "output_type": "display_data"
    }
   ],
   "source": [
    "#1\n",
    "sns.boxplot(data = temperatures)\n",
    "#2  paired samples\n",
    "\n",
    "#4\n",
    "statistic, pvalue = stats.ttest_rel(temperatures['time1'], temperatures['time2'], alternative='two-sided')\n",
    "print(\"p-value is %.4f\" % pvalue)\n",
    "\n",
    "#5 p-value >  5% => er is niet voldoende bewijs om de H0 te verwerpen\n",
    "#the measurements at the second time point are not significantly different from those at the first time point.\n",
    "\n",
    "#6\n",
    "#The interquartile range\n",
    "print(\"Inter Quartile Range:\", temperatures['time1'].quantile(.75) - temperatures['time1'].quantile(.25))\n",
    "#The kurtosis\n",
    "print(f\"Kurtosis:            {temperatures['time1'].kurtosis()}\")\n",
    "#The range\n",
    "print(f\"Range :    {temperatures['time1'].max() - temperatures['time1'].min()}\")\n",
    "#The standard deviation\n",
    "print(f\"Standard deviation:  {temperatures['time1'].std()}\") # Pay attention: n-1 in the denominator"
   ]
  },
  {
   "cell_type": "markdown",
   "metadata": {},
   "source": [
    "## Answers Question 6\n",
    "\n",
    "\n",
    "1. sns.boxplot(data = temperatures)\n",
    "2. paired samples (paired t-test)\n",
    "3. The hypotheses are:\n",
    "- $H_0$: $\\mu_1 - \\mu_2 = 0$ (the temperature in both groups is the same)\n",
    "- $H_1$: $\\mu_1 - \\mu_2 <> 0$ (the temperature in group 1 is not the same as the temp in group 2)\n",
    "4. p-value is 0.8744\n",
    "5. #5 p-value >  5% => er is niet voldoende bewijs om de H0 te verwerpen\n",
    "6. \n",
    "   1. Inter Quartile Range: 16.5\n",
    "   2. Kurtosis:            0.15796776764037945\n",
    "   3. Range :    45\n",
    "   4. Standard deviation:  13.09743704481366"
   ]
  },
  {
   "cell_type": "markdown",
   "metadata": {},
   "source": [
    "----\n",
    "\n",
    "## Vraag 7 [7 pt] -> two-sample t-test (The t-test for independent samples)\n",
    "\n",
    "Er werd een onderzoek gevoerd naar de hoeveelheid moedermelk die geproduceerd werd bij moeders die wel of niet rookten tijdens de zwangerschap. Kan je besluiten dat jonge moeders die niet rookten tijdens de zwangerschap significant meer moedermelk produceren dan jonge moeders die wel rookten?\n",
    "\n",
    "1. Maak een plot\n",
    "2. Welke hypothesetoets ga je toepassen om deze onderzoeksvraag te beantwoorden? Wees zo specifiek mogelijk!\n",
    "3. Formuleer de nulhypothese en de alternatieve hypothese\n",
    "4. Bereken de p-waarde\n",
    "5. Trek een besluit op basis van de vorige stap en formuleer een antwoord op de onderzoeksvraag.\n",
    "6. Bereken de volgende waarden\n",
    "* 6.1. Bij hoeveel niet-rokende moeders bedroeg de hoeveelheid moedermelk meer dan 1000?\n",
    "* 6.2. Hoeveel outliers zijn er bij niet-rokende moeders?"
   ]
  },
  {
   "cell_type": "code",
   "execution_count": 3,
   "metadata": {},
   "outputs": [
    {
     "data": {
      "text/plain": [
       "6.312035087270153e-06"
      ]
     },
     "execution_count": 3,
     "metadata": {},
     "output_type": "execute_result"
    }
   ],
   "source": [
    "rokende_moeders = [621, 793, 593, 545, 753, 655, 895, 767, 714, 598, 693]\n",
    "niet_rokende_moeders = [947, 945, 1086, 1202, 973, 981, 930, 745, 903, 899, 961]\n",
    "\n",
    "beide = pd.crosstab(rokende_moeders, niet_rokende_moeders)\n",
    "\n",
    "test_statistiek, p_value = stats.ttest_ind(a=rokende_moeders, b=niet_rokende_moeders, alternative='less', equal_var=False)\n",
    "\n",
    "p_value"
   ]
  },
  {
   "cell_type": "code",
   "execution_count": 4,
   "metadata": {},
   "outputs": [
    {
     "data": {
      "text/plain": [
       "<Axes: >"
      ]
     },
     "execution_count": 4,
     "metadata": {},
     "output_type": "execute_result"
    },
    {
     "data": {
      "image/png": "[encoded data removed]",
      "text/plain": [
       "<Figure size 640x480 with 1 Axes>"
      ]
     },
     "metadata": {},
     "output_type": "display_data"
    }
   ],
   "source": [
    "#Plot deelvraag 7\n",
    "moeders = pd.DataFrame(data={'rokende_moeders' :[621, 793, 593, 545, 753, 655, 895, 767, 714, 598, 693],\n",
    "'niet_rokende_moeders' : [947, 945, 1086, 1202, 973, 981, 930, 745, 903, 899, 961]})\n",
    "\n",
    "sns.boxplot(data=moeders)"
   ]
  },
  {
   "cell_type": "code",
   "execution_count": 5,
   "metadata": {},
   "outputs": [
    {
     "name": "stdout",
     "output_type": "stream",
     "text": [
      "Aantal niet-rokende moeders met meer dan 1000 ml moedermelk: 2\n"
     ]
    }
   ],
   "source": [
    "niet_rokende_meer_dan_1000 = sum(1 for hoeveelheid in niet_rokende_moeders if hoeveelheid > 1000)\n",
    "print(\"Aantal niet-rokende moeders met meer dan 1000 ml moedermelk:\", niet_rokende_meer_dan_1000)"
   ]
  },
  {
   "cell_type": "code",
   "execution_count": 6,
   "metadata": {},
   "outputs": [
    {
     "name": "stdout",
     "output_type": "stream",
     "text": [
      "Aantal outliers bij niet-rokende moeders: 3\n"
     ]
    }
   ],
   "source": [
    "def detect_outliers(data):\n",
    "    q1 = np.percentile(data, 25)\n",
    "    q3 = np.percentile(data, 75)\n",
    "    iqr = q3 - q1\n",
    "    lower_bound = q1 - 1.5 * iqr\n",
    "    upper_bound = q3 + 1.5 * iqr\n",
    "    outliers = [value for value in data if value < lower_bound or value > upper_bound]\n",
    "    return outliers\n",
    "\n",
    "niet_rokende_outliers = detect_outliers(niet_rokende_moeders)\n",
    "print(\"Aantal outliers bij niet-rokende moeders:\", len(niet_rokende_outliers))"
   ]
  },
  {
   "cell_type": "markdown",
   "metadata": {},
   "source": [
    "### Antwoord vraag 7\n",
    "\n",
    "1. (Genereer de plot hierboven in een codecel. Geef duidelijk aan dat de plot bij deze deelvraag hoort!)\n",
    "\n",
    "2. two-sample t-test (The t-test for independent samples)\n",
    "\n",
    "3.\n",
    "- $H_0: \\mu_1 - \\mu_2 = 0$ (beide moeders zouden evenveel moedermelk moeten produceren)\n",
    "- $H_1: \\mu_1 - \\mu_2 < 0$ (de niet rokende moeders zouden meer moedermelk produceren dan de rokende moeders)\n",
    "\n",
    "4. p-waarde=6.312035087270153e-06\n",
    "5. de p waarde is extreem klein dus we kunnen de hypothese verwerpen\n",
    "6.\n"
   ]
  },
  {
   "cell_type": "markdown",
   "metadata": {},
   "source": [
    "----\n",
    "\n",
    "# Vraag 8 [5 pt] -> paired t-test t-test voor paired samples\n",
    "\n",
    "Een limonadefabrikant wil zijn limonadeblikjes een nieuw uiterlijk geven. Daartoe laat hij een testpanel van 180 potentiële klanten de aantrekkelijkheid van het oude en het nieuwe blikje beoordelen en ondervraagt hij hen over de bereidheid om het oude en het nieuwe blikje te kopen. De aantrekkelijkheid wordt beoordeeld op een schaal van 1 tot en met 7, met 1 de laagste en 7 de hoogste aantrekkelijkheid.  \n",
    "We willen weten of de klanten het nieuwe blikje aantrekkelijker vinden dan het oude blikje. De data staat in limonadeblikjes.csv.  \n",
    "(1) Welke toets moet je gebruiken om deze onderzoeksvraag te beantwoorden? Wees zo specifiek mogelijk!  \n",
    "(2) Formuleer de nulhypothese en de alternatieve hypothese  \n",
    "(3) Bereken de p-waarde  \n",
    "(4) Trek een besluit op basis van de vorige stap en beantwoord de onderzoeksvraag.   \n",
    "(5) In de cursus kwam Cohen's d aan bod om de effectgrootte te berekenen. Er bestaan echter veel alternatieven. Één van die alternatieven is Glass' Δ\n",
    "$$\\Delta = \\frac{\\overline{x}_1 - \\overline{x}_2}{s_1}$$\n",
    "met $\\overline{x}_1$ en $\\overline{x}_2$ het gemiddelde van elke groep en $s_1$ de standaard deviatie van de eerste sample.  \n",
    "Bereken Glass' $\\Delta$.  "
   ]
  },
  {
   "cell_type": "code",
   "execution_count": null,
   "metadata": {},
   "outputs": [],
   "source": [
    "df = pd.read_csv('../dsai-ReeksA/limonadeblikjes.csv',sep=';')\n",
    "df.head()"
   ]
  },
  {
   "cell_type": "code",
   "execution_count": null,
   "metadata": {},
   "outputs": [],
   "source": [
    "stats.ttest_rel(df[\"aantrekkelijkheid_oud\"], df[\"aantrekkelijkheid_nieuw\"], alternative='less')"
   ]
  },
  {
   "cell_type": "code",
   "execution_count": null,
   "metadata": {},
   "outputs": [],
   "source": [
    "def cohen_d(a, b):\n",
    "    na = len(a)\n",
    "    nb = len(b)\n",
    "    pooled_sd = np.sqrt( ((na-1) * a.std(ddof=1)**2 +\n",
    "                          (nb-1) * b.std(ddof=1)**2) / (na + nb - 2) )\n",
    "    return (b.mean() - a.mean()) / pooled_sd"
   ]
  },
  {
   "cell_type": "code",
   "execution_count": null,
   "metadata": {},
   "outputs": [],
   "source": [
    "print(cohen_d(df[\"aantrekkelijkheid_oud\"], df[\"aantrekkelijkheid_nieuw\"]))"
   ]
  },
  {
   "cell_type": "markdown",
   "metadata": {},
   "source": [
    "## Antwoorden Vraag 8\n",
    "\n",
    "(8.1)   Je gebruikt de t-test voor paired samples\n",
    "\n",
    "(8.2)  The hypotheses are:\n",
    "\n",
    "- $H_0$: $\\mu_1 - \\mu_2 = 0$ (De aantrekkelijkheid van de blikjes is hetzelfde in beide groepen)\n",
    "- $H_1$: $\\mu_1 - \\mu_2 < 0$ (De aantrekkelijkheid is significant groter bij de nieuwe blikjes vergeleken met de oude blikjes)\n",
    "\n",
    "(8.3)  de p-waarde is =1.3231562068750385e-07\n",
    "\n",
    "(8.4)  De aantrekkelijkheid van de nieuwe blikjes is significant groter vergeleken met de aantrekkelijkheid van de oude blikjes. Zelfs bij een significantieniveau van 0.01 kan je de H0 rejecten of weigeren.\n",
    "\n",
    "(8.5)  Glass' $\\Delta$ = 0.2916637362306984\n"
   ]
  }
 ],
 "metadata": {
  "kernelspec": {
   "display_name": "Python 3",
   "language": "python",
   "name": "python3"
  },
  "language_info": {
   "codemirror_mode": {
    "name": "ipython",
    "version": 3
   },
   "file_extension": ".py",
   "mimetype": "text/x-python",
   "name": "python",
   "nbconvert_exporter": "python",
   "pygments_lexer": "ipython3",
   "version": "3.12.2"
  }
 },
 "nbformat": 4,
 "nbformat_minor": 2
}
