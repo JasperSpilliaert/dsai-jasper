{
 "cells": [
  {
   "cell_type": "code",
   "execution_count": null,
   "metadata": {},
   "outputs": [],
   "source": [
    "# Importeren van de nodige packages\n",
    "# Vul zelf aan met extra packages als dit nodig is voor de oefeningen!\n",
    "import numpy as np\n",
    "import pandas as pd\n",
    "import scipy.stats as stats\n",
    "import matplotlib.pyplot as plt\n",
    "import seaborn as sns"
   ]
  },
  {
   "cell_type": "code",
   "execution_count": 3,
   "metadata": {},
   "outputs": [],
   "source": [
    "dfrestaurants = pd.DataFrame(\n",
    "    data={'naam': [\"101\",\"12th St. Bar & Grill\",\"202 Café\",\"212\",\"24 Prince\",\"26 Seats\",\"360\",\"41 Greenwich Avenue\",\"44\",\"44 X Hell's Kitchen\",\"5 Ninth\",\"71 Irving Place\",\"718\",\"A.O.C.\",\"A.O.C. Bedford\",\"Abboccato\",\"Abigael's\",\"Above\",\"Adrienne's Pizzabar\",\"Aesop's Tables\",\"Agata & Valentina Ristorante\",\"Agave\",\"Agnanti\",\"Aix Brasserie\",\"Aja\",\"Aji Sushi\",\"Areo\",\"Bouley, Upstairs\",\"Casa Mono\",\"Cesca\",\"Coals\",\"Etats-Unis\",\"Gari\",\"Henry's End\",\"ino\",\"inoteca\",\"Joya\",\"Lupa\",\"MarkJoseph Steakhouse\",\"Noodle Pudding\",\"Norma's\",\"Osaka\",\"Pearl Oyster Bar\",\"Piccola Venezia\",\"Po\",\"Scalinatella\",\"Sparks Steak House\",\"Spigolo\",\"Sushi Ann\",\"Sushi Sen-nin\",\"Tommaso\",\"Wolfgang's Steakhouse\",\"Yakitori Totto\",\"105 Harbor\",\"1770 House Restaurant & Inn\",\"25 East American Bistro\",\"56th Fighter Group\",\"Abel Conklin's\",\"Adirondack Grill\",\"Akbar\",\"Albert's Mandarin Gourmet\",\"Allison's Ristorante\",\"Almond\",\"Amici\",\"Aqua Blue Bar & Grill\",\"Argyle Grill & Tavern\",\"Ariana\",\"Ayhan's Fish Kebab\",\"Ayhan's Mediterranean Café\",\"B. Smith's\",\"Baang Café & Bar\",\"Babylon Carriage House\",\"Bamboo Restaurant & Sushi\",\"Barney's\",\"Barolo\",\"Basil Leaf Café\",\"Bay & Main\",\"Bayou, The\",\"Bayport House, The\",\"Bayview Inn & Restaurant\",\"Beacon\",\"Bedlam Street Fish & Clam\",\"Bella Vita City Grill\",\"Bellport, The\",\"Benihana\",\"Benny's Ristorante\",\"Maureen & Daughters Kitchen\",\"Minami\",\"Mirko's\",\"Nisen\",\"Palm\",\"Plaza Café\",\"Robert's\",\"Rothmann's Steakhouse\",\"Royal Tangra Masala\",\"Sempre Vivolo\",\"Soigne\",\"Sole\",\"Starr Boggs\",\"Steve's Piccola Bussola\",\"Stonewalls\",\"Tellers American Chophouse\",\"Trattoria Diane\",\"Vine Street Café\",\"Vintage Prime Steakhouse\",\"Yuki's Palette\"],\n",
    "    'locatie': [\"NYC\",\"NYC\",\"NYC\",\"NYC\",\"NYC\",\"NYC\",\"NYC\",\"NYC\",\"NYC\",\"NYC\",\"NYC\",\"NYC\",\"NYC\",\"NYC\",\"NYC\",\"NYC\",\"NYC\",\"NYC\",\"NYC\",\"NYC\",\"NYC\",\"NYC\",\"NYC\",\"NYC\",\"NYC\",\"NYC\",\"NYC\",\"NYC\",\"NYC\",\"NYC\",\"NYC\",\"NYC\",\"NYC\",\"NYC\",\"NYC\",\"NYC\",\"NYC\",\"NYC\",\"NYC\",\"NYC\",\"NYC\",\"NYC\",\"NYC\",\"NYC\",\"NYC\",\"NYC\",\"NYC\",\"NYC\",\"NYC\",\"NYC\",\"NYC\",\"NYC\",\"NYC\",\"LI\",\"LI\",\"LI\",\"LI\",\"LI\",\"LI\",\"LI\",\"LI\",\"LI\",\"LI\",\"LI\",\"LI\",\"LI\",\"LI\",\"LI\",\"LI\",\"LI\",\"LI\",\"LI\",\"LI\",\"LI\",\"LI\",\"LI\",\"LI\",\"LI\",\"LI\",\"LI\",\"LI\",\"LI\",\"LI\",\"LI\",\"LI\",\"LI\",\"LI\",\"LI\",\"LI\",\"LI\",\"LI\",\"LI\",\"LI\",\"LI\",\"LI\",\"LI\",\"LI\",\"LI\",\"LI\",\"LI\",\"LI\",\"LI\",\"LI\",\"LI\",\"LI\",\"LI\"],\n",
    "    'eten': [20,21,21,17,18,23,23,18,20,21,20,19,22,19,23,23,20,18,24,22,18,19,24,21,20,21,25,25,25,23,25,25,26,25,24,23,25,25,25,25,25,25,26,25,25,25,25,25,25,25,25,25,25,20,24,16,14,22,16,19,23,19,21,22,18,21,20,20,18,16,22,21,20,26,24,18,19,22,21,24,20,22,21,24,17,25,25,25,25,25,25,25,25,25,25,25,25,25,25,25,25,25,25,25,25,25],\n",
    "    'decor': [18,19,17,17,17,16,15,18,22,18,22,17,19,16,21,20,16,19,17,18,16,19,15,21,23,14,20,16,18,21,17,16,17,14,14,18,19,18,17,18,20,17,14,17,16,17,19,16,17,15,18,20,19,22,25,20,21,17,21,17,18,19,15,18,17,21,17,17,15,23,23,24,18,23,20,17,15,16,21,21,19,19,17,19,17,18,19,21,21,20,18,21,21,22,14,22,24,15,24,15,21,26,21,15,21,15],\n",
    "    'service': [17,20,18,16,15,19,19,19,18,19,17,16,19,16,21,21,18,18,17,20,14,18,19,20,20,20,21,18,20,21,19,23,19,24,18,20,20,21,23,22,21,20,19,23,21,21,21,21,21,20,22,20,20,20,23,17,16,21,16,18,22,21,18,21,17,19,20,19,17,17,19,18,18,24,22,19,18,18,20,24,18,21,20,21,19,24,21,24,23,21,23,24,21,22,18,24,24,21,20,21,23,22,22,23,23,21],\n",
    "    'prijs': [38,36,32,45,34,37,38,35,52,43,57,16,40,35,51,61,45,50,23,44,32,36,34,59,43,26,48,46,47,57,19,56,74,43,25,37,21,50,63,34,37,30,41,52,47,73,68,55,60,53,47,69,44,50,62,40,31,47,31,32,27,44,41,33,43,35,31,30,25,49,43,41,44,59,46,38,35,32,47,42,50,45,41,41,34,50,16,28,63,34,61,51,56,60,24,51,50,34,56,37,43,61,52,55,61,31]})\n",
    "\n",
    "dfrestaurants['totalscore'] = dfrestaurants['eten'] + dfrestaurants['decor'] + dfrestaurants['service']"
   ]
  },
  {
   "cell_type": "code",
   "execution_count": 4,
   "metadata": {},
   "outputs": [
    {
     "name": "stdout",
     "output_type": "stream",
     "text": [
      "Mean:                22.471698113207548\n",
      "Standard deviation:  2.9022406685994526\n",
      "Variance coefficient:            0.12915092815765825\n",
      "Skewness:            -0.7769577082858453\n",
      "Kurtosis:            -0.4499664326894419\n",
      "Minimum:   14\n",
      "Median:    23.5\n",
      "Maximum:   26\n",
      "Percentiles [0.0, 0.25, 0.5, 0.75, 1.0] \n",
      " 0.00    14.0\n",
      "0.25    20.0\n",
      "0.50    23.5\n",
      "0.75    25.0\n",
      "1.00    26.0\n",
      "Name: eten, dtype: float64\n",
      "Inter Quartile Range: 5.0\n",
      "Range :    12\n"
     ]
    }
   ],
   "source": [
    "Ur_column = dfrestaurants[\"eten\"]\n",
    "\n",
    "print(f\"Mean:                {Ur_column.mean()}\")\n",
    "print(f\"Standard deviation:  {Ur_column.std()}\") # Pay attention: n-1 in the denominator\n",
    "print(f\"Variance coefficient:            {Ur_column.std()/Ur_column.mean()}\") # Pay attention: n-1 in the denominator\n",
    "print(f\"Skewness:            {Ur_column.skew()}\")\n",
    "print(f\"Kurtosis:            {Ur_column.kurtosis()}\")\n",
    "\n",
    "# Median & co\n",
    "print(f\"Minimum:   {Ur_column.min()}\")\n",
    "print(f\"Median:    {Ur_column.median()}\")\n",
    "print(f\"Maximum:   {Ur_column.max()}\")\n",
    "percentiles = [0.0, 0.25, 0.5, 0.75, 1.0]\n",
    "print(\"Percentiles\", percentiles, \"\\n\", Ur_column.quantile(percentiles))\n",
    "print(\"Inter Quartile Range:\", Ur_column.quantile(.75) - Ur_column.quantile(.25))\n",
    "print(f\"Range :    {Ur_column.max() - Ur_column.min()}\")"
   ]
  },
  {
   "cell_type": "code",
   "execution_count": null,
   "metadata": {},
   "outputs": [],
   "source": [
    "# barchart\n",
    "sns.catplot(x=\"kolomnaam\", kind=\"count\", data=data) # count -> telt het aantal waardes per categ\n",
    "# of\n",
    "sns.countplot(x=\"kolomnaam\", data=data)\n",
    "# centrality measures\n",
    "data.mode() # geeft de modus terug -> meest voorkomende waarde\n",
    "data[\"kolomnaam\"].mode() # geeft de modus terug -> meest voorkomende waarde\n",
    "data.describe() # geeft een overzicht van de data -> count, mean, std, min, max, 25%, 50%, 75%"
   ]
  },
  {
   "cell_type": "code",
   "execution_count": 1,
   "metadata": {},
   "outputs": [
    {
     "ename": "NameError",
     "evalue": "name 'sns' is not defined",
     "output_type": "error",
     "traceback": [
      "\u001b[1;31m---------------------------------------------------------------------------\u001b[0m",
      "\u001b[1;31mNameError\u001b[0m                                 Traceback (most recent call last)",
      "Cell \u001b[1;32mIn[1], line 3\u001b[0m\n\u001b[0;32m      1\u001b[0m \u001b[38;5;66;03m# histogram\u001b[39;00m\n\u001b[0;32m      2\u001b[0m \u001b[38;5;66;03m# Boxplot -> geeft de 5 getallen weer -> min, 25%, 50%, 75%, max\u001b[39;00m\n\u001b[1;32m----> 3\u001b[0m \u001b[43msns\u001b[49m\u001b[38;5;241m.\u001b[39mboxplot(dfrestaurants\u001b[38;5;241m=\u001b[39mdfrestaurants, x\u001b[38;5;241m=\u001b[39m\u001b[38;5;124m\"\u001b[39m\u001b[38;5;124mkolomnaam\u001b[39m\u001b[38;5;124m\"\u001b[39m) \u001b[38;5;66;03m# x -> kolomnaam, y -> waarde\u001b[39;00m\n\u001b[0;32m      4\u001b[0m \u001b[38;5;66;03m# of violinplot -> geeft de distributie weer\u001b[39;00m\n\u001b[0;32m      5\u001b[0m sns\u001b[38;5;241m.\u001b[39mviolinplot(dfrestaurants\u001b[38;5;241m=\u001b[39mdfrestaurants, x\u001b[38;5;241m=\u001b[39m\u001b[38;5;124m\"\u001b[39m\u001b[38;5;124mkolomnaam\u001b[39m\u001b[38;5;124m\"\u001b[39m) \u001b[38;5;66;03m# x -> kolomnaam, y -> waarde\u001b[39;00m\n",
      "\u001b[1;31mNameError\u001b[0m: name 'sns' is not defined"
     ]
    }
   ],
   "source": [
    "# histogram\n",
    "# Boxplot -> geeft de 5 getallen weer -> min, 25%, 50%, 75%, max\n",
    "sns.boxplot(data=data, x=\"kolomnaam\") # x -> kolomnaam, y -> waarde\n",
    "# of violinplot -> geeft de distributie weer\n",
    "sns.violinplot(data=data, x=\"kolomnaam\") # x -> kolomnaam, y -> waarde\n",
    "# of kernel density plot (kde) -> geeft de distributie weer in 1 curve\n",
    "sns.kdeplot(x = data[\"kolomnaam\"])\n",
    "# combineren histogram en density plot -> historgram met distributiecruve\n",
    "sns.distplot(x = data[\"kolomnaam\"], kde=True) # histogram + density plot\n",
    "# centrality and dispersion measures\n",
    "## Mean, st and friends\n",
    "print(f\"mean: {data['kolomnaam'].mean()}\")\n",
    "print(f\"Standard deviation: {data['kolomnaam'].std()}\") # Pay attention: n-1 in the denominator\n",
    "print(f\"Variance: {data['kolomnaam'].var()}\") # Pay attention: n-1 in the denominator\n",
    "print(f\"skewness: {data['kolomnaam'].skew()}\")\n",
    "print(f\"kurtosis: {data['kolomnaam'].kurtosis()}\")\n",
    "##median & friends\n",
    "\n",
    "print(f\"minimum: {data['kolomnaam'].min()}\")\n",
    "print(f\"median: {data['kolomnaam'].median()}\")\n",
    "print(f\"maximum: {data['kolomnaam'].max()}\")\n",
    "\n",
    "print(f\"percentile 25%: {data['kolomnaam'].quantile(0.25)}\")\n",
    "print(f\"percentile 50%: {data['kolomnaam'].quantile(0.5)}\")\n",
    "print(f\"percentile 75%: {data['kolomnaam'].quantile(0.75)}\")\n",
    "print(f\"iqr (interquartile range): {data['kolomnaam'].quantile(0.75) - data['kolomnaam'].quantile(0.25)}\")\n",
    "      \n",
    "print(f\"range: {data['kolomnaam'].max() - data['kolomnaam'].min()}\")\n",
    "\n",
    "# of ge zijt slim en doet\n",
    "data.describe() \n",
    "\n",
    "#Formule voor de standaard deviatie\n",
    "# BIJ SAMPLE GEBRUIK JE N - 1\n",
    "# BIJ POPULATIE GEBRUIK JE N\n",
    "# dit omdat je zo een betere schatting hebt van de populatie\n",
    "# Bij pandas word standaard de sample gebruikt\n",
    "# Bij numpy word standaard de populatie gebruikt\n",
    "print(f\"Pandas uses ddof=1 by default: {data['col'].std()}\") # ddof -> delta degrees of freedom\n",
    "print(f\"Numpy uses ddof=0 by default: {np.std(data['col'])}\")\n",
    "#pandas\n",
    "print(f\"Standard deviation population: {data['col'].std(ddof=0)}\")\n",
    "print(f\"Standard deviation sample : {data['col'].std()}\")\n",
    "#numpy\n",
    "print(f\"Standard deviation population: {np.std(a)}\")\n",
    "print(f\"Standard deviation sample : {np.std(a, ddof=1)}\")"
   ]
  }
 ],
 "metadata": {
  "kernelspec": {
   "display_name": "Python 3",
   "language": "python",
   "name": "python3"
  },
  "language_info": {
   "codemirror_mode": {
    "name": "ipython",
    "version": 3
   },
   "file_extension": ".py",
   "mimetype": "text/x-python",
   "name": "python",
   "nbconvert_exporter": "python",
   "pygments_lexer": "ipython3",
   "version": "3.12.2"
  }
 },
 "nbformat": 4,
 "nbformat_minor": 2
}
