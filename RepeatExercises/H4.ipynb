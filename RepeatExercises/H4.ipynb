{
 "cells": [
  {
   "cell_type": "code",
   "execution_count": 2,
   "metadata": {},
   "outputs": [],
   "source": [
    "# Importeren van de nodige packages\n",
    "# Vul zelf aan met extra packages als dit nodig is voor de oefeningen!\n",
    "import numpy as np\n",
    "import pandas as pd\n",
    "import scipy.stats as stats\n",
    "import matplotlib.pyplot as plt\n",
    "import seaborn as sns"
   ]
  },
  {
   "cell_type": "markdown",
   "metadata": {},
   "source": [
    "## Testen\n",
    "\n",
    "### 3. Chi-Squared Test for Independence\n",
    "\n",
    "- Voorbeeld: Stel je wilt onderzoeken of er een verband is tussen rookgedrag (roker/niet-roker) en het hebben van longkanker (ja/nee). Je hebt een tabel met frequenties van rokers en niet-rokers die wel of geen longkanker hebben.\n",
    "    - H0​: Er is geen verband tussen rookgedrag en longkanker (de variabelen zijn onafhankelijk).\n",
    "    - H1​: Er is een verband tussen rookgedrag en longkanker (de variabelen zijn niet onafhankelijk).\n",
    "    - Wordt gebruikt bij: Twee kwalitatieve variabelen. Het doel is te bepalen of er een significante afhankelijkheid bestaat tussen de twee variabelen.\n",
    "    \n",
    "### 4. Cramér's V\n",
    "- Voorbeeld: Na het uitvoeren van een Chi-Squared Test for Independence over de vraag of geslacht (man/vrouw) en stemgedrag (partij A/partij B) gerelateerd zijn, gebruik je Cramér’s V om de sterkte van de associatie tussen deze twee variabelen te meten.\n",
    "- Wat het doet: Cramér’s V geeft aan hoe sterk het verband is tussen de twee kwalitatieve variabelen. De waarde ligt tussen 0 (geen verband) en 1 (perfect verband).\n",
    "- Wordt gebruikt bij: Twee kwalitatieve variabelen. Het meet de sterkte van de associatie na het vaststellen van afhankelijkheid met de Chi-Squared Test.\n",
    "\n",
    "### 5. Goodness of Fit Test\n",
    "\n",
    "- Voorbeeld: Stel je wilt testen of een dobbelsteen eerlijk is. Je rolt de dobbelsteen 60 keer en wilt weten of elke uitkomst (1 t/m 6) even vaak voorkomt als verwacht bij een eerlijke dobbelsteen (10 keer per uitkomst).\n",
    "    - H0​: De dobbelsteen is eerlijk, d.w.z. elke uitkomst komt even vaak voor.\n",
    "    - H1​: De dobbelsteen is niet eerlijk, d.w.z. de uitkomsten komen niet even vaak voor.\n",
    "\n",
    "- Wordt gebruikt bij: Eén kwalitatieve variabele. Het doel is te testen of de geobserveerde frequentieverdeling overeenkomt met een verwachte verdeling.\n",
    "\n",
    "### Gebruik bij Kwalitatieve Variabelen\n",
    "\n",
    "- Chi-Squared Test for Independence en Cramér’s V worden beide gebruikt bij **twee kwalitatieve** variabelen om respectievelijk de onafhankelijkheid en de sterkte van hun relatie te testen.\n",
    "    \n",
    "- De Goodness of Fit Test wordt gebruikt bij **één kwalitatieve variabele** om te testen of de verdeling van de categorieën overeenkomt met een specifieke verwachte verdeling."
   ]
  },
  {
   "cell_type": "markdown",
   "metadata": {},
   "source": [
    "### Example Questions\n",
    "\n",
    "- Is er een verschil in smaakvoorkeur tussen twee drankmerken?\n",
    "- Is er een verschil in uitgaven bij het campusrestaurant tussen studenten en personeel?\n",
    "- Sterven rokers vaker aan longkanker dan niet-rokers?\n",
    "- Hebben mannen en vrouwen een verschillende mening over een enquêtevraag?"
   ]
  },
  {
   "cell_type": "markdown",
   "metadata": {},
   "source": [
    "----\n",
    "\n",
    "## Vraag 6 [7 pt] -> Chi-sqaured test\n",
    "\n",
    "Het bestand bestellingen.csv bevat gegevens van 400 bestellingen\n",
    "geplaatst bij een elektronica bedrijf gedurende een periode van meerdere\n",
    "maanden. Voor elke bestelling vermeldt het bestand de tijd van de dag,\n",
    "het type creditcard dat wordt gebruikt, de regio van het land\n",
    "waar de klant woont,....   \n",
    "We willen weten of er een verband bestaat tussen Time en Region\n",
    "\n",
    "(1) Welke toets (met significantieniveau 5%) moet je gebruiken om deze onderzoeksvraag te beantwoorden? Wees zo specifiek mogelijk!  \n",
    "(2) Formuleer de nulhypothese en de alternatieve hypothese  \n",
    "(3) Maak een plot op basis waarvan je kan inschatten of nulhypothese zal verworpen worden (Geef bij de Antwoorden het commando voor deze plot)   \n",
    "(4) Bereken de p-waarde  \n",
    "(5) Trek een besluit op basis van de vorige stap en beantwoord de onderzoeksvraag.\n",
    "\n",
    "Geef ook een antwoord op de volgende 2 vragen\n",
    "\n",
    "(6) Bereken het totaal aantal bestelde Items door vrouwen (Female) op een dinsdag (Tue)  \n",
    "(7) Geef de interkwartielafstand voor Total Cost  "
   ]
  },
  {
   "cell_type": "code",
   "execution_count": null,
   "metadata": {},
   "outputs": [],
   "source": [
    "df = pd.read_csv('../dsai-ReeksA/bestellingen.csv', sep=';')\n",
    "df.head()"
   ]
  },
  {
   "cell_type": "code",
   "execution_count": null,
   "metadata": {},
   "outputs": [],
   "source": [
    "#6.3\n",
    "observed = pd.crosstab(df.Time,df.Region)\n",
    "observed.plot(kind='barh', stacked=True)"
   ]
  },
  {
   "cell_type": "code",
   "execution_count": null,
   "metadata": {},
   "outputs": [],
   "source": [
    "#6.4\n",
    "chi2, p, dof, expected = stats.chi2_contingency(observed)\n",
    "\n",
    "print(\"Chi-squared       : %.4f\" % chi2)\n",
    "print(\"Degrees of freedom: %d\" % dof)\n",
    "print(\"P-value           : %.4f\" % p)"
   ]
  },
  {
   "cell_type": "code",
   "execution_count": null,
   "metadata": {},
   "outputs": [],
   "source": [
    "#6.5\n",
    "alpha = .05\n",
    "dimensions = observed.shape\n",
    "dof = (dimensions[0]-1) * (dimensions[1]-1)\n",
    "g = stats.chi2.isf(alpha, df = dof)\n",
    "print(\"Critical value     : %.4f\" % g)\n"
   ]
  },
  {
   "cell_type": "code",
   "execution_count": null,
   "metadata": {},
   "outputs": [],
   "source": [
    "#6.6\n",
    "gender = df[((df[\"Gender\"] == \"Female\") & (df[\"Day\"] == \"Tue\"))][\"Items Ordered\"].sum()\n",
    "print(gender)"
   ]
  },
  {
   "cell_type": "code",
   "execution_count": null,
   "metadata": {},
   "outputs": [],
   "source": [
    "#6.7\n",
    "percentiles = [0.0, 0.25, 0.5, 0.75, 1.0]\n",
    "\n",
    "print(\"Percentiles\", percentiles, \"\\n\", df['Total Cost'].quantile(percentiles))\n",
    "print(\"Inter Quartile Range:\", df['Total Cost'].quantile(.75) - df['Total Cost'].quantile(.25))\n",
    "print(\"De interkwartielafstand van totale kost is: \", df['Total Cost'].quantile(.75) - df['Total Cost'].quantile(.25))\n"
   ]
  },
  {
   "cell_type": "markdown",
   "metadata": {},
   "source": [
    "## Antwoorden Vraag 6\n",
    "\n",
    "(6.1) \n",
    "\n",
    "Je gebruikt de Chi-sqaured test om te zien of er een verband tussen deze twee kwalitatieve variabelen.\n",
    "\n",
    "(6.2)  \n",
    "\n",
    "Formally, the procedure of the $\\chi^2$ test for independence runs as follows:\n",
    "\n",
    "1. Hypthesis:\n",
    "\n",
    "   - $H_0$: There is no association between the variables (the differences between observed and expected values are small)\n",
    "   - $H_1$: There is an association between the variables (the differences are large)\n",
    "\n",
    "Conclusion:\n",
    "   1. $\\chi^2 < g$: do not reject $H_0$; $\\chi^2 > g$: reject $H_0$\n",
    "   2. $p > \\alpha$: do not reject $H_0$; $p < \\alpha$: reject $H_0$\n",
    "\n",
    "(6.3)  \n",
    "\n",
    "observed = pd.crosstab(df.Time,df.Region)\n",
    "observed.plot(kind='barh', stacked=True)\n",
    "\n",
    "(6.4)  \n",
    "\n",
    "Chi-squared       : 3.5037\n",
    "Degrees of freedom: 6\n",
    "P-value           : 0.7435\n",
    "\n",
    "(6.5)  \n",
    "\n",
    "Critical value     : 12.5916\n",
    "chi2: 3.5036 < g: 12.5916 => Op basis van de chi-kwadraat en de critical value dus de g zie je ook dat je de H0 niet gaat rejecten of weigeren, er is dus geen verband tussen de variabelen\n",
    "\n",
    "(6.6) \n",
    "\n",
    "128\n",
    "\n",
    "(6.7) \n",
    "\n",
    "Percentiles [0.0, 0.25, 0.5, 0.75, 1.0] \n",
    " 0.00      6.8200\n",
    "0.25     83.3225\n",
    "0.50    126.7200\n",
    "0.75    205.2450\n",
    "1.00    485.0100\n",
    "Name: Total Cost, dtype: float64\n",
    "Inter Quartile Range: 121.92250000000001\n",
    "De interkwartielafstand van totale kost is:  121.92250000000001\n"
   ]
  },
  {
   "cell_type": "markdown",
   "metadata": {},
   "source": [
    "----\n",
    "\n",
    "## Question 9 -> goodness of fit test\n",
    "\n",
    "You recently offered samples of three products to every customer who entered your business. You then asked which product customers liked best. You recorded these preferences for Product A, Product B and Product C in the dataset given below.\n",
    "\n",
    "Do customers have a distinct preference for any of these products? Use an appropriate statistical test (with significance level 5%) to verify this statement.\n",
    "\n",
    "1. Visualise the data with an appropriate plot. What can you infer about the research question? Explain.\n",
    "2. What hypothesis test will you apply to answer this research question? Be as specific as possible!\n",
    "3. Formulate the null hypothesis and the alternative hypothesis\n",
    "4. Calculate the appropriate test statistic (test statistic) for this test. Give the symbol and value\n",
    "5. Calculate the p-value\n",
    "6. Draw a conclusion based on the previous step and formulate an answer to the research question."
   ]
  },
  {
   "cell_type": "code",
   "execution_count": 3,
   "metadata": {},
   "outputs": [],
   "source": [
    "products = pd.DataFrame(data={'Choice': [\n",
    "  \"Product A\",\"Product A\",\"Product B\",\"Product B\",\"Product C\",\n",
    "  \"Product B\",\"Product B\",\"Product B\",\"Product C\",\"Product B\",\n",
    "  \"Product C\",\"Product A\",\"Product C\",\"Product B\",\"Product C\",\n",
    "  \"Product B\",\"Product C\",\"Product C\",\"Product C\",\"Product B\",\n",
    "  \"Product C\",\"Product C\",\"Product B\",\"Product C\",\"Product B\",\n",
    "  \"Product B\",\"Product B\",\"Product B\",\"Product A\",\"Product B\",\n",
    "  \"Product B\",\"Product B\",\"Product B\",\"Product B\",\"Product C\",\n",
    "  \"Product C\",\"Product B\",\"Product C\",\"Product C\",\"Product A\",\n",
    "  \"Product C\",\"Product C\",\"Product B\",\"Product B\",\"Product B\",\n",
    "  \"Product B\",\"Product C\",\"Product C\",\"Product C\",\"Product C\",\n",
    "  \"Product C\",\"Product B\",\"Product A\",\"Product C\",\"Product C\",\n",
    "  \"Product B\",\"Product B\",\"Product C\",\"Product C\",\"Product C\",\n",
    "  \"Product B\",\"Product C\",\"Product B\",\"Product B\",\"Product C\",\n",
    "  \"Product B\",\"Product B\",\"Product C\",\"Product C\",\"Product B\",\n",
    "  \"Product C\",\"Product C\",\"Product C\",\"Product B\",\"Product B\",\n",
    "  \"Product C\",\"Product C\",\"Product C\",\"Product C\",\"Product C\",\n",
    "  \"Product C\",\"Product C\",\"Product C\",\"Product C\",\"Product C\",\n",
    "  \"Product C\",\"Product C\",\"Product C\",\"Product C\",\"Product B\"\n",
    "]})"
   ]
  },
  {
   "cell_type": "code",
   "execution_count": 8,
   "metadata": {},
   "outputs": [
    {
     "data": {
      "text/plain": [
       "(31.2, 1.6788275299956632e-07)"
      ]
     },
     "execution_count": 8,
     "metadata": {},
     "output_type": "execute_result"
    }
   ],
   "source": [
    "product_counts = products['Choice'].value_counts()\n",
    "chi2_stat, p_value = stats.chisquare(product_counts)\n",
    "chi2_stat, p_value"
   ]
  },
  {
   "cell_type": "code",
   "execution_count": 17,
   "metadata": {},
   "outputs": [
    {
     "name": "stdout",
     "output_type": "stream",
     "text": [
      "Choice\n",
      "Product A     6\n",
      "Product B    36\n",
      "Product C    48\n",
      "Name: Choice, dtype: int64\n",
      "Significance level  ⍺ = 0.05\n",
      "Sample size         n = 90\n",
      "k = 3; df = 2\n",
      "Critical value      g = 5.9915\n",
      "Chi-squared        χ² = 31.2000\n",
      "p-value             p = 0.0000\n"
     ]
    },
    {
     "data": {
      "text/plain": [
       "(31.2, 1.6788275299956632e-07)"
      ]
     },
     "execution_count": 17,
     "metadata": {},
     "output_type": "execute_result"
    },
    {
     "data": {
      "image/png": "[encoded data removed]",
      "text/plain": [
       "<Figure size 640x480 with 1 Axes>"
      ]
     },
     "metadata": {},
     "output_type": "display_data"
    }
   ],
   "source": [
    "#1\n",
    "sns.countplot(data =products , x = 'Choice')\n",
    "\n",
    "#klanten hebben een voorkeur voor product B en C en zeker niet voor A\n",
    "\n",
    "#2\n",
    "# goodness of fit test om te kijken of er een gelijkmatige verdeling is van product A, product B  en product C over de klanten\n",
    "\n",
    "#3  \n",
    "types = ['Product A', 'Product B', 'Product C']\n",
    "extra = products.groupby('Choice')['Choice'].count()\n",
    "print(extra)\n",
    "observed =   np.array(extra)\n",
    "expected_p = np.array([1/3,1/3,1/3])\n",
    "\n",
    "\n",
    "alpha = 0.05               # Significance level\n",
    "n = sum(observed)          # Sample size\n",
    "k = len(observed)          # Number of categories\n",
    "dof = k - 1                # Degrees of freedom\n",
    "expected = expected_p * n  # Expected absolute frequencies in the sample\n",
    "g = stats.chi2.isf(alpha, df=dof)  # Critical value\n",
    "\n",
    "# Goodness-of-fit-test in Python:\n",
    "#chi2, p = stats.chisquare(product_counts)\n",
    "chi2, p = stats.chisquare(f_obs=observed, f_exp=expected)\n",
    "\n",
    "print(\"Significance level  ⍺ = %.2f\" % alpha)\n",
    "print(\"Sample size         n = %d\" % n)\n",
    "print(\"k = %d; df = %d\" % (k, dof))\n",
    "print(\"Critical value      g = %.4f\" % g)\n",
    "\n",
    "#4\n",
    "print(\"Chi-squared        χ² = %.4f\" % chi2)\n",
    "#5\n",
    "print(\"p-value             p = %.4f\" % p)\n",
    "\n",
    "chi2, p\n"
   ]
  },
  {
   "cell_type": "markdown",
   "metadata": {},
   "source": [
    "### Antwoorden \n",
    "1. countplot\n",
    "2. goodness of fit test om te kijken of er een gelijkmatige verdeling is van product A, product B  en product C over de klanten\n",
    "3.\n",
    "- H0 -> de klanten hebben geen specifieke voorkeur voor een bepaald product\n",
    "- H1 -> de klanten hebben wel een specifieke voorkeur voor een bepaald product\n",
    "\n",
    "OR\n",
    "\n",
    "- Null Hypothesis (H₀): Customers have no distinct preference, meaning the proportions of preferences for Products A, B, and C are equal.\n",
    "- Alternative Hypothesis (H₁): Customers have a distinct preference, meaning the proportions of preferences for Products A, B, and C are not equal.\n",
    "4. χ² = 31.2000\n",
    "5. p-value: p = 1.6788275299956632e-07\n",
    "6. p << 5%  => er is voldeonde aaleiding om de H0 te verwerpen \n"
   ]
  },
  {
   "cell_type": "markdown",
   "metadata": {},
   "source": [
    "----\n",
    "\n",
    "## Vraag 9 [5 pt] -> Chi-kwadraat toets\n",
    "Een Amerikaanse universiteit voerde voor het jaar 2003, 2004 en 2005 telkens een onafhankelijke en representatieve steekproef uit naar de politieke voorkeur van zijn studenten. (Democrat, Republican, Independent, Other)\n",
    "Zijn er aanwijzigingen dat de politieke gezindheid verschilt per jaar voor 2003, 2004 en 2005?\n",
    "Voer een test uit met 5% significance level om deze vraag te beantwoorden.\n",
    "\n",
    "1. Welke hypothesetoets ga je toepassen om deze onderzoeksvraag te beantwoorden? Wees zo specifiek mogelijk!\n",
    "2. Formuleer de nulhypothese en de alternatieve hypothese\n",
    "3. Bereken de gepaste toetsingsgrootheid (teststatistiek) voor deze toets. Geef het symbool en de waarde\n",
    "4. Bereken de p-waarde\n",
    "5. Trek een besluit op basis van de vorige stap en formuleer een antwoord op de onderzoeksvraag.\n"
   ]
  },
  {
   "cell_type": "code",
   "execution_count": 3,
   "metadata": {},
   "outputs": [
    {
     "data": {
      "text/html": [
       "<div>\n",
       "<style scoped>\n",
       "    .dataframe tbody tr th:only-of-type {\n",
       "        vertical-align: middle;\n",
       "    }\n",
       "\n",
       "    .dataframe tbody tr th {\n",
       "        vertical-align: top;\n",
       "    }\n",
       "\n",
       "    .dataframe thead tr th {\n",
       "        text-align: left;\n",
       "    }\n",
       "\n",
       "    .dataframe thead tr:last-of-type th {\n",
       "        text-align: right;\n",
       "    }\n",
       "</style>\n",
       "<table border=\"1\" class=\"dataframe\">\n",
       "  <thead>\n",
       "    <tr>\n",
       "      <th></th>\n",
       "      <th colspan=\"4\" halign=\"left\">politieke_voorkeur</th>\n",
       "    </tr>\n",
       "    <tr>\n",
       "      <th></th>\n",
       "      <th>count</th>\n",
       "      <th>unique</th>\n",
       "      <th>top</th>\n",
       "      <th>freq</th>\n",
       "    </tr>\n",
       "    <tr>\n",
       "      <th>jaar</th>\n",
       "      <th></th>\n",
       "      <th></th>\n",
       "      <th></th>\n",
       "      <th></th>\n",
       "    </tr>\n",
       "  </thead>\n",
       "  <tbody>\n",
       "    <tr>\n",
       "      <th>2003</th>\n",
       "      <td>121</td>\n",
       "      <td>4</td>\n",
       "      <td>Ind</td>\n",
       "      <td>46</td>\n",
       "    </tr>\n",
       "    <tr>\n",
       "      <th>2004</th>\n",
       "      <td>120</td>\n",
       "      <td>4</td>\n",
       "      <td>Dem</td>\n",
       "      <td>40</td>\n",
       "    </tr>\n",
       "    <tr>\n",
       "      <th>2005</th>\n",
       "      <td>122</td>\n",
       "      <td>4</td>\n",
       "      <td>Ind</td>\n",
       "      <td>46</td>\n",
       "    </tr>\n",
       "  </tbody>\n",
       "</table>\n",
       "</div>"
      ],
      "text/plain": [
       "     politieke_voorkeur                 \n",
       "                  count unique  top freq\n",
       "jaar                                    \n",
       "2003                121      4  Ind   46\n",
       "2004                120      4  Dem   40\n",
       "2005                122      4  Ind   46"
      ]
     },
     "execution_count": 3,
     "metadata": {},
     "output_type": "execute_result"
    }
   ],
   "source": [
    "dfpolitiek = pd.DataFrame(data={\n",
    "  'jaar': [2003,2003,2003,2003,2003,2003,2003,2003,2003,2003,2003,2003,2003,2003,2003,2003,2003,2003,2003,2003,2003,2003,2003,2003,2003,2003,2003,2003,2003,2003,2003,2003,2003,2003,2003,2003,2003,2003,2003,2003,2003,2003,2003,2003,2003,2003,2003,2003,2003,2003,2003,2003,2003,2003,2003,2003,2003,2003,2003,2003,2003,2003,2003,2003,2003,2003,2003,2003,2003,2003,2003,2003,2003,2003,2003,2003,2003,2003,2003,2003,2003,2003,2003,2003,2003,2003,2003,2003,2003,2003,2003,2003,2003,2003,2003,2003,2003,2003,2003,2003,2003,2003,2003,2003,2003,2003,2003,2003,2003,2003,2003,2003,2003,2003,2003,2003,2003,2003,2003,2003,2003,2004,2004,2004,2004,2004,2004,2004,2004,2004,2004,2004,2004,2004,2004,2004,2004,2004,2004,2004,2004,2004,2004,2004,2004,2004,2004,2004,2004,2004,2004,2004,2004,2004,2004,2004,2004,2004,2004,2004,2004,2004,2004,2004,2004,2004,2004,2004,2004,2004,2004,2004,2004,2004,2004,2004,2004,2004,2004,2004,2004,2004,2004,2004,2004,2004,2004,2004,2004,2004,2004,2004,2004,2004,2004,2004,2004,2004,2004,2004,2004,2004,2004,2004,2004,2004,2004,2004,2004,2004,2004,2004,2004,2004,2004,2004,2004,2004,2004,2004,2004,2004,2004,2004,2004,2004,2004,2004,2004,2004,2004,2004,2004,2004,2004,2004,2004,2004,2004,2004,2004,2005,2005,2005,2005,2005,2005,2005,2005,2005,2005,2005,2005,2005,2005,2005,2005,2005,2005,2005,2005,2005,2005,2005,2005,2005,2005,2005,2005,2005,2005,2005,2005,2005,2005,2005,2005,2005,2005,2005,2005,2005,2005,2005,2005,2005,2005,2005,2005,2005,2005,2005,2005,2005,2005,2005,2005,2005,2005,2005,2005,2005,2005,2005,2005,2005,2005,2005,2005,2005,2005,2005,2005,2005,2005,2005,2005,2005,2005,2005,2005,2005,2005,2005,2005,2005,2005,2005,2005,2005,2005,2005,2005,2005,2005,2005,2005,2005,2005,2005,2005,2005,2005,2005,2005,2005,2005,2005,2005,2005,2005,2005,2005,2005,2005,2005,2005,2005,2005,2005,2005,2005,2005],\n",
    "  'politieke_voorkeur': [\"Dem\",\"Dem\",\"Dem\",\"Dem\",\"Dem\",\"Dem\",\"Dem\",\"Dem\",\"Dem\",\"Dem\",\"Dem\",\"Dem\",\"Dem\",\"Dem\",\"Dem\",\"Dem\",\"Dem\",\"Dem\",\"Dem\",\"Dem\",\"Dem\",\"Dem\",\"Dem\",\"Dem\",\"Dem\",\"Dem\",\"Dem\",\"Dem\",\"Dem\",\"Dem\",\"Dem\",\"Dem\",\"Dem\",\"Rep\",\"Rep\",\"Rep\",\"Rep\",\"Rep\",\"Rep\",\"Rep\",\"Rep\",\"Rep\",\"Rep\",\"Rep\",\"Rep\",\"Rep\",\"Rep\",\"Rep\",\"Rep\",\"Rep\",\"Rep\",\"Rep\",\"Rep\",\"Rep\",\"Rep\",\"Rep\",\"Rep\",\"Rep\",\"Rep\",\"Rep\",\"Rep\",\"Rep\",\"Rep\",\"Rep\",\"Rep\",\"Rep\",\"Rep\",\"Rep\",\"Rep\",\"Rep\",\"Ind\",\"Ind\",\"Ind\",\"Ind\",\"Ind\",\"Ind\",\"Ind\",\"Ind\",\"Ind\",\"Ind\",\"Ind\",\"Ind\",\"Ind\",\"Ind\",\"Ind\",\"Ind\",\"Ind\",\"Ind\",\"Ind\",\"Ind\",\"Ind\",\"Ind\",\"Ind\",\"Ind\",\"Ind\",\"Ind\",\"Ind\",\"Ind\",\"Ind\",\"Ind\",\"Ind\",\"Ind\",\"Ind\",\"Ind\",\"Ind\",\"Ind\",\"Ind\",\"Ind\",\"Ind\",\"Ind\",\"Ind\",\"Ind\",\"Ind\",\"Ind\",\"Ind\",\"Ind\",\"Other\",\"Other\",\"Other\",\"Other\",\"Other\",\"Dem\",\"Dem\",\"Dem\",\"Dem\",\"Dem\",\"Dem\",\"Dem\",\"Dem\",\"Dem\",\"Dem\",\"Dem\",\"Dem\",\"Dem\",\"Dem\",\"Dem\",\"Dem\",\"Dem\",\"Dem\",\"Dem\",\"Dem\",\"Dem\",\"Dem\",\"Dem\",\"Dem\",\"Dem\",\"Dem\",\"Dem\",\"Dem\",\"Dem\",\"Dem\",\"Dem\",\"Dem\",\"Dem\",\"Dem\",\"Dem\",\"Dem\",\"Dem\",\"Dem\",\"Dem\",\"Dem\",\"Rep\",\"Rep\",\"Rep\",\"Rep\",\"Rep\",\"Rep\",\"Rep\",\"Rep\",\"Rep\",\"Rep\",\"Rep\",\"Rep\",\"Rep\",\"Rep\",\"Rep\",\"Rep\",\"Rep\",\"Rep\",\"Rep\",\"Rep\",\"Rep\",\"Rep\",\"Rep\",\"Rep\",\"Rep\",\"Rep\",\"Rep\",\"Rep\",\"Rep\",\"Rep\",\"Rep\",\"Rep\",\"Rep\",\"Rep\",\"Rep\",\"Ind\",\"Ind\",\"Ind\",\"Ind\",\"Ind\",\"Ind\",\"Ind\",\"Ind\",\"Ind\",\"Ind\",\"Ind\",\"Ind\",\"Ind\",\"Ind\",\"Ind\",\"Ind\",\"Ind\",\"Ind\",\"Ind\",\"Ind\",\"Ind\",\"Ind\",\"Ind\",\"Ind\",\"Ind\",\"Ind\",\"Ind\",\"Ind\",\"Ind\",\"Ind\",\"Ind\",\"Ind\",\"Ind\",\"Ind\",\"Ind\",\"Ind\",\"Ind\",\"Ind\",\"Ind\",\"Ind\",\"Other\",\"Other\",\"Other\",\"Other\",\"Other\",\"Dem\",\"Dem\",\"Dem\",\"Dem\",\"Dem\",\"Dem\",\"Dem\",\"Dem\",\"Dem\",\"Dem\",\"Dem\",\"Dem\",\"Dem\",\"Dem\",\"Dem\",\"Dem\",\"Dem\",\"Dem\",\"Dem\",\"Dem\",\"Dem\",\"Dem\",\"Dem\",\"Dem\",\"Dem\",\"Dem\",\"Dem\",\"Dem\",\"Dem\",\"Dem\",\"Dem\",\"Dem\",\"Dem\",\"Dem\",\"Dem\",\"Dem\",\"Dem\",\"Dem\",\"Dem\",\"Dem\",\"Rep\",\"Rep\",\"Rep\",\"Rep\",\"Rep\",\"Rep\",\"Rep\",\"Rep\",\"Rep\",\"Rep\",\"Rep\",\"Rep\",\"Rep\",\"Rep\",\"Rep\",\"Rep\",\"Rep\",\"Rep\",\"Rep\",\"Rep\",\"Rep\",\"Rep\",\"Rep\",\"Rep\",\"Rep\",\"Rep\",\"Rep\",\"Rep\",\"Rep\",\"Rep\",\"Ind\",\"Ind\",\"Ind\",\"Ind\",\"Ind\",\"Ind\",\"Ind\",\"Ind\",\"Ind\",\"Ind\",\"Ind\",\"Ind\",\"Ind\",\"Ind\",\"Ind\",\"Ind\",\"Ind\",\"Ind\",\"Ind\",\"Ind\",\"Ind\",\"Ind\",\"Ind\",\"Ind\",\"Ind\",\"Ind\",\"Ind\",\"Ind\",\"Ind\",\"Ind\",\"Ind\",\"Ind\",\"Ind\",\"Ind\",\"Ind\",\"Ind\",\"Ind\",\"Ind\",\"Ind\",\"Ind\",\"Ind\",\"Ind\",\"Ind\",\"Ind\",\"Ind\",\"Ind\",\"Other\",\"Other\",\"Other\",\"Other\",\"Other\",\"Other\"]\n",
    "})\n",
    "\n",
    "dfpolitiek.groupby('jaar').describe()"
   ]
  },
  {
   "cell_type": "code",
   "execution_count": 4,
   "metadata": {},
   "outputs": [
    {
     "data": {
      "text/html": [
       "<div>\n",
       "<style scoped>\n",
       "    .dataframe tbody tr th:only-of-type {\n",
       "        vertical-align: middle;\n",
       "    }\n",
       "\n",
       "    .dataframe tbody tr th {\n",
       "        vertical-align: top;\n",
       "    }\n",
       "\n",
       "    .dataframe thead th {\n",
       "        text-align: right;\n",
       "    }\n",
       "</style>\n",
       "<table border=\"1\" class=\"dataframe\">\n",
       "  <thead>\n",
       "    <tr style=\"text-align: right;\">\n",
       "      <th></th>\n",
       "      <th>jaar</th>\n",
       "      <th>politieke_voorkeur</th>\n",
       "    </tr>\n",
       "  </thead>\n",
       "  <tbody>\n",
       "    <tr>\n",
       "      <th>0</th>\n",
       "      <td>2003</td>\n",
       "      <td>Dem</td>\n",
       "    </tr>\n",
       "    <tr>\n",
       "      <th>1</th>\n",
       "      <td>2003</td>\n",
       "      <td>Dem</td>\n",
       "    </tr>\n",
       "    <tr>\n",
       "      <th>2</th>\n",
       "      <td>2003</td>\n",
       "      <td>Dem</td>\n",
       "    </tr>\n",
       "    <tr>\n",
       "      <th>3</th>\n",
       "      <td>2003</td>\n",
       "      <td>Dem</td>\n",
       "    </tr>\n",
       "    <tr>\n",
       "      <th>4</th>\n",
       "      <td>2003</td>\n",
       "      <td>Dem</td>\n",
       "    </tr>\n",
       "  </tbody>\n",
       "</table>\n",
       "</div>"
      ],
      "text/plain": [
       "   jaar politieke_voorkeur\n",
       "0  2003                Dem\n",
       "1  2003                Dem\n",
       "2  2003                Dem\n",
       "3  2003                Dem\n",
       "4  2003                Dem"
      ]
     },
     "execution_count": 4,
     "metadata": {},
     "output_type": "execute_result"
    },
    {
     "data": {
      "image/png": "[encoded data removed]",
      "text/plain": [
       "<Figure size 638.861x500 with 1 Axes>"
      ]
     },
     "metadata": {},
     "output_type": "display_data"
    }
   ],
   "source": [
    "sns.catplot(dfpolitiek, x='jaar' ,hue='politieke_voorkeur',  kind='count');\n",
    "dfpolitiek.head()"
   ]
  },
  {
   "cell_type": "code",
   "execution_count": 5,
   "metadata": {},
   "outputs": [
    {
     "name": "stdout",
     "output_type": "stream",
     "text": [
      "Chi-squared       : 2.2841\n",
      "Degrees of freedom: 6\n",
      "P-value           : 0.8918\n"
     ]
    }
   ],
   "source": [
    "observed = pd.crosstab(dfpolitiek.jaar, dfpolitiek.politieke_voorkeur)\n",
    "chi2, p, dof, expected = stats.chi2_contingency(observed)\n",
    "\n",
    "print(\"Chi-squared       : %.4f\" % chi2)\n",
    "print(\"Degrees of freedom: %d\" % dof)\n",
    "print(\"P-value           : %.4f\" % p)"
   ]
  },
  {
   "cell_type": "code",
   "execution_count": 6,
   "metadata": {},
   "outputs": [
    {
     "name": "stdout",
     "output_type": "stream",
     "text": [
      "Chi-squared        : 2.2841\n",
      "Degrees of freedom : 6\n",
      "Critical value     : 12.5916\n",
      "p-value            : 0.8918\n"
     ]
    }
   ],
   "source": [
    "alpha = .05\n",
    "dimensions = observed.shape\n",
    "dof = (dimensions[0]-1) * (dimensions[1]-1)\n",
    "\n",
    "print(\"Chi-squared        : %.4f\" % chi2)\n",
    "print(\"Degrees of freedom : %d\" % dof)\n",
    "\n",
    "# Calculate critical value\n",
    "g = stats.chi2.isf(alpha, df = dof)\n",
    "print(\"Critical value     : %.4f\" % g)\n",
    "\n",
    "# Calculate p-value\n",
    "p = stats.chi2.sf(chi2, df=dof)\n",
    "print(\"p-value            : %.4f\" % p)"
   ]
  },
  {
   "cell_type": "markdown",
   "metadata": {},
   "source": [
    "### Antwoord vraag 9\n",
    "\n",
    "1. Omdat we de verdelingen van categorische gegevens over meerdere onafhankelijke groepen willen vergelijken, passen we de Chi-kwadraat toets voor onafhankelijkheid toe.\n",
    "2. \n",
    "- Nulhypothese (H₀): De verdeling van de politieke gezindheid van studenten is hetzelfde voor de jaren 2003, 2004 en 2005.\n",
    "- Alternatieve hypothese (H₁​): De verdeling van de politieke gezindheid van studenten verschilt voor ten minste één van de jaren 2003, 2004 en 2005.\n",
    "3. Chi-squared        : 2.2841\n",
    "4. p-value            : 0.8918\n",
    "5. De p-waarde van 0.8918 is veel groter dan het significantieniveau van 0.05. Dit betekent dat we de nulhypothese H₀​ niet verwerpen."
   ]
  },
  {
   "cell_type": "markdown",
   "metadata": {},
   "source": [
    "----\n",
    "\n",
    "## Vraag 7 [6 pt] -> chi kwadraat test\n",
    "\n",
    "In het Onderzoek Verplaatsingsgedrag Vlaanderen (2021-2022) vinden we de volgende cijfers in verband met de verdeling van het rijbewijsbezit volgens netto-inkomen op persoonsniveau voor personen vanaf 18 jaar (exclusief scholieren en studenten).  Is er een verband tussen het inkomen en het al dan niet hebben van een rijbewijs?\n",
    "\n",
    "1. [1pt] Welke hypothesetoets ga je toepassen om deze onderzoeksvraag te beantwoorden? Wees zo specifiek mogelijk!\n",
    "\n",
    "2. [1pt] Formuleer de nulhypothese en de alternatieve hypothese\n",
    "\n",
    "3. [1pt] Bereken de gepaste toetsingsgrootheid (teststatistiek) voor deze toets. Geef het symbool en de waarde\n",
    "\n",
    "4. [1pt] Bereken de p-waarde\n",
    "\n",
    "5. [1pt] Trek een besluit op basis van de vorige stap en formuleer een antwoord op de onderzoeksvraag.\n",
    "\n",
    "6. [1pt] Hoeveel procent van de ondervraagden heeft geen rijbewijs?"
   ]
  },
  {
   "cell_type": "code",
   "execution_count": 7,
   "metadata": {},
   "outputs": [
    {
     "data": {
      "text/html": [
       "<div>\n",
       "<style scoped>\n",
       "    .dataframe tbody tr th:only-of-type {\n",
       "        vertical-align: middle;\n",
       "    }\n",
       "\n",
       "    .dataframe tbody tr th {\n",
       "        vertical-align: top;\n",
       "    }\n",
       "\n",
       "    .dataframe thead th {\n",
       "        text-align: right;\n",
       "    }\n",
       "</style>\n",
       "<table border=\"1\" class=\"dataframe\">\n",
       "  <thead>\n",
       "    <tr style=\"text-align: right;\">\n",
       "      <th></th>\n",
       "      <th>ja</th>\n",
       "      <th>neen</th>\n",
       "    </tr>\n",
       "    <tr>\n",
       "      <th>inkomen</th>\n",
       "      <th></th>\n",
       "      <th></th>\n",
       "    </tr>\n",
       "  </thead>\n",
       "  <tbody>\n",
       "    <tr>\n",
       "      <th>1501 - 2000 EUR</th>\n",
       "      <td>800</td>\n",
       "      <td>55</td>\n",
       "    </tr>\n",
       "    <tr>\n",
       "      <th>2001 - 2500 EUR</th>\n",
       "      <td>653</td>\n",
       "      <td>20</td>\n",
       "    </tr>\n",
       "    <tr>\n",
       "      <th>2501 - 3000 EUR</th>\n",
       "      <td>325</td>\n",
       "      <td>10</td>\n",
       "    </tr>\n",
       "    <tr>\n",
       "      <th>&gt;3000 EUR</th>\n",
       "      <td>270</td>\n",
       "      <td>4</td>\n",
       "    </tr>\n",
       "    <tr>\n",
       "      <th>wenst niet te antwoorden op deze vraag</th>\n",
       "      <td>230</td>\n",
       "      <td>51</td>\n",
       "    </tr>\n",
       "  </tbody>\n",
       "</table>\n",
       "</div>"
      ],
      "text/plain": [
       "                                         ja  neen\n",
       "inkomen                                          \n",
       "1501 - 2000 EUR                         800    55\n",
       "2001 - 2500 EUR                         653    20\n",
       "2501 - 3000 EUR                         325    10\n",
       ">3000 EUR                               270     4\n",
       "wenst niet te antwoorden op deze vraag  230    51"
      ]
     },
     "execution_count": 7,
     "metadata": {},
     "output_type": "execute_result"
    }
   ],
   "source": [
    "dfrijbewijs = pd.DataFrame(data={\n",
    "    'inkomen': ['0 - 1000 EUR', '1001 - 1500 EUR', '1501 - 2000 EUR', '2001 - 2500 EUR', '2501 - 3000 EUR', '>3000 EUR', 'wenst niet te antwoorden op deze vraag'],\n",
    "    'ja': [149, 469, 800, 653, 325, 270, 230],\n",
    "    'neen': [61, 157, 55, 20, 10, 4, 51]}).set_index('inkomen')\n",
    "\n",
    "dfrijbewijs.tail()"
   ]
  },
  {
   "cell_type": "code",
   "execution_count": 4,
   "metadata": {},
   "outputs": [
    {
     "name": "stdout",
     "output_type": "stream",
     "text": [
      "Chi-squared        χ² = 42.0000\n",
      "p-value             p = 0.2270\n",
      "Procent geen rijbewijs 0.1100\n"
     ]
    }
   ],
   "source": [
    "observed = pd.crosstab(dfrijbewijs.ja, dfrijbewijs.index)\n",
    "chi2, p, df, expected = stats.chi2_contingency(observed)\n",
    " \n",
    " \n",
    "print(\"Chi-squared        χ² = %.4f\" % chi2)\n",
    "print(\"p-value             p = %.4f\" % p)\n",
    "\n",
    "sumJa = sum(dfrijbewijs.ja)\n",
    "sumNeen = sum(dfrijbewijs.neen)\n",
    "totaalSum = sumJa + sumNeen\n",
    "\n",
    "print(\"Procent geen rijbewijs %.4f\" % (sumNeen / totaalSum))"
   ]
  },
  {
   "cell_type": "markdown",
   "metadata": {},
   "source": [
    "### Antwoord\n",
    "\n",
    "1. We passen hierbij de chi kwadraat test voor onafhankelijkheid toe. In het geval dat er geen verband is tussen het inkomen en het al dan niet hebben van een rijbewijs, zouden de afwijkingen klein moeten zijn.\n",
    "2. \n",
    "\n",
    "- $H_0$: Er is geen verband tussen het inkomen en het al dan niet hebben van een rijbewijs (de verschillen tussen de geobserveerde en verwachte waarden zijn klein)\n",
    "- $H_A$: Er is een verband tussen het inkomen en het al dan niet hebben van een rijbewijs (de verschillen tussen de geobserveerde en verwachte waarden zijn groot)\n",
    "\n",
    "3. De toetsingsgrootheid voor deze toets is $\\chi^2 = 42.0000$\n",
    "4. De p-waarde is: 0.2270\n",
    "5. De p-warde is hoger dan het significantie niveau, we verwerpen de nul hypothese dus niet. Er is dus geen verband tussen het inkomen en het al dan niet hebben van een rijbewijs\n",
    "6. Procent geen rijbewijs 11%"
   ]
  }
 ],
 "metadata": {
  "kernelspec": {
   "display_name": "Python 3",
   "language": "python",
   "name": "python3"
  },
  "language_info": {
   "codemirror_mode": {
    "name": "ipython",
    "version": 3
   },
   "file_extension": ".py",
   "mimetype": "text/x-python",
   "name": "python",
   "nbconvert_exporter": "python",
   "pygments_lexer": "ipython3",
   "version": "3.12.2"
  }
 },
 "nbformat": 4,
 "nbformat_minor": 2
}
