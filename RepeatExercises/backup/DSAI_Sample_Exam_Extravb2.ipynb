{
 "cells": [
  {
   "cell_type": "code",
   "execution_count": 4,
   "metadata": {},
   "outputs": [
    {
     "name": "stderr",
     "output_type": "stream",
     "text": [
      "C:\\Users\\peter\\AppData\\Local\\Temp\\ipykernel_8452\\2678068429.py:3: DeprecationWarning: \n",
      "Pyarrow will become a required dependency of pandas in the next major release of pandas (pandas 3.0),\n",
      "(to allow more performant data types, such as the Arrow string type, and better interoperability with other libraries)\n",
      "but was not found to be installed on your system.\n",
      "If this would cause problems for you,\n",
      "please provide us feedback at https://github.com/pandas-dev/pandas/issues/54466\n",
      "        \n",
      "  import pandas as pd\n"
     ]
    }
   ],
   "source": [
    "# Package imports for data science\n",
    "import numpy as np\n",
    "import pandas as pd\n",
    "import scipy.stats as stats\n",
    "import matplotlib.pyplot as plt\n",
    "import seaborn as sns\n",
    "from statsmodels.graphics.mosaicplot import mosaic"
   ]
  },
  {
   "cell_type": "code",
   "execution_count": 43,
   "metadata": {},
   "outputs": [],
   "source": [
    "# Vraag 1\n",
    "#1: Ratio\n",
    "#2: nominaal\n",
    "#3: ordinaal\n",
    "#4: ratio"
   ]
  },
  {
   "cell_type": "code",
   "execution_count": 44,
   "metadata": {},
   "outputs": [],
   "source": [
    "#vraag 2\n",
    "#Neen dit is geen aselecte steekproef want je maakt hier direct al een ordening op alfabetische volgorde \n",
    "# Dit is een systematische sampling error, dit is een systematische sampling error omdat de fout\n",
    "#ligt bij de manier dat je de steekproef hebt opgezet."
   ]
  },
  {
   "attachments": {},
   "cell_type": "markdown",
   "metadata": {},
   "source": [
    " Vraag 3\n",
    "1: afhankelijk, de kans dat iemand een playstation heeft, volgt ook dat er geen grote kans is dat die een XBOX heeft\n",
    "2: 130/180\n",
    "3: 20/180\n",
    "4:40/60\n"
   ]
  },
  {
   "attachments": {},
   "cell_type": "markdown",
   "metadata": {},
   "source": [
    "vraag 4\n",
    "crashtest, normaal verdeeld\n",
    "gemiddelde = 30\n",
    "standaardafwijking = 1.5\n",
    "steekproef n = 4\n",
    "wat moet je zoeken, de gemiddelde botskracht van de steekproef"
   ]
  },
  {
   "cell_type": "code",
   "execution_count": 2,
   "metadata": {},
   "outputs": [
    {
     "name": "stdout",
     "output_type": "stream",
     "text": [
      "1  0.159\n"
     ]
    }
   ],
   "source": [
    "m = 30\n",
    "s =1.5\n",
    "n =4 \n",
    "print(f\"1  %.3f\" %stats.norm.sf(30.75, m, s/np.sqrt(n)))"
   ]
  },
  {
   "attachments": {},
   "cell_type": "markdown",
   "metadata": {},
   "source": [
    "Vraag 4\n",
    "Het antwoord is c\n"
   ]
  },
  {
   "cell_type": "code",
   "execution_count": 3,
   "metadata": {},
   "outputs": [
    {
     "name": "stdout",
     "output_type": "stream",
     "text": [
      "z-score: 2.24140\n",
      "Confidence interval: [4586.7110, 4860.7779]\n",
      "4723.7444444444445\n",
      "Ondergrens: 4586.7110 \n",
      "Bovengrens: 4860.7779 \n"
     ]
    }
   ],
   "source": [
    "#vraag 5\n",
    "s =580\n",
    "sample = np.array([\n",
    "4377, 4093, 4835, 5287, 3888, 5271, 4633, 4744, 5106, 5210, 5039,\n",
    "4672, 5515, 5610, 4091, 4909, 3724, 4558, 4663, 5501, 5252, 5983,\n",
    "4957, 5495, 4520, 5139, 4461, 5099, 4824, 3761, 5198, 4934, 3464,\n",
    "6242, 3993, 4745, 5625, 5170, 4871, 5458, 4485, 5534, 4463, 4976,\n",
    "4903, 3851, 5267, 4631, 5547, 5236, 4874, 4797, 4706, 5071, 5680,\n",
    "3560, 5012, 4292, 4476, 4319, 4511, 4951, 4067, 4107, 4559, 3710,\n",
    "3747, 4376, 3969, 5365, 5001, 5162, 3979, 3376, 4055, 4341, 4622,\n",
    "4169, 4872, 5646, 4405, 4598, 4770, 4733, 4542, 5281, 4471, 4406,\n",
    "4227, 4522\n",
    "])\n",
    "m = sample.mean()\n",
    "ss = sample.std(ddof=1)\n",
    "n = sample.size\n",
    "alpha =(100-97.5)/100\n",
    "z = stats.norm.isf(alpha/2)\n",
    "print(\"z-score: %.5f\" % z)\n",
    "\n",
    "# Step 3.\n",
    "lo = m - z * s / np.sqrt(n)\n",
    "hi = m + z * s / np.sqrt(n)\n",
    "print(\"Confidence interval: [%.4f, %.4f]\" % (lo, hi))\n",
    "print(m)\n",
    "print(\"Ondergrens: %.4f \" %lo)\n",
    "print(\"Bovengrens: %.4f \" %hi)"
   ]
  },
  {
   "cell_type": "code",
   "execution_count": 4,
   "metadata": {},
   "outputs": [],
   "source": [
    "#vraag 6\n",
    "my_sample = pd.DataFrame(data={\n",
    "'time1':\n",
    "[425, 530, 607, 693, 485, 341, 590, 484, 391, 561, 572, 415, 496, 567,\n",
    "320, 645, 551, 574, 553, 363],\n",
    "'time2':\n",
    "[470, 382, 286, 547, 422, 574, 431, 469, 393, 424, 411, 517, 472, 368,\n",
    "529, 475, 491, 658, 549, 268]\n",
    "})\n",
    "#paired t-test\n"
   ]
  },
  {
   "cell_type": "code",
   "execution_count": 5,
   "metadata": {},
   "outputs": [
    {
     "name": "stdout",
     "output_type": "stream",
     "text": [
      "Median:                540.5\n",
      "Range :    373\n"
     ]
    }
   ],
   "source": [
    "stats.ttest_rel(my_sample.time1, my_sample.time2, alternative='two-sided')\n",
    "print(f\"Median:                {my_sample.time1.median()}\")\n",
    "print(f\"Range :    {my_sample.time1.max() - my_sample.time1.min()}\")"
   ]
  },
  {
   "cell_type": "code",
   "execution_count": 82,
   "metadata": {},
   "outputs": [],
   "source": [
    "#vraag 7\n",
    "my_sample = pd.DataFrame(data = {\n",
    "'Group':\n",
    "['Staff', 'Faculty', 'Faculty', 'Staff', 'Staff', 'Student', 'Staff',\n",
    "'Student', 'Staff', 'Faculty', 'Faculty', 'Student', 'Student',\n",
    "\n",
    "'Faculty', 'Student', 'Staff', 'Student', 'Faculty', 'Staff',\n",
    "'Staff', 'Staff', 'Staff', 'Faculty', 'Staff', 'Faculty',\n",
    "'Faculty', 'Student', 'Staff', 'Staff', 'Staff', 'Student',\n",
    "'Student', 'Staff', 'Faculty', 'Student', 'Staff', 'Faculty',\n",
    "'Student', 'Faculty', 'Staff', 'Student', 'Student', 'Faculty',\n",
    "'Student', 'Student', 'Faculty', 'Staff', 'Staff', 'Student',\n",
    "'Student', 'Student', 'Faculty', 'Staff', 'Faculty', 'Staff',\n",
    "'Staff', 'Student', 'Staff', 'Student', 'Staff', 'Student',\n",
    "'Faculty', 'Staff', 'Staff', 'Faculty', 'Student', 'Staff',\n",
    "'Staff', 'Faculty', 'Faculty', 'Staff', 'Faculty', 'Student',\n",
    "'Student', 'Faculty', 'Staff', 'Student', 'Staff', 'Staff',\n",
    "'Faculty'],\n",
    "'Color':\n",
    "['blue', 'red', 'red', 'blue', 'blue', 'red', 'blue', 'green', 'red',\n",
    "'red', 'green', 'red', 'blue', 'blue', 'blue', 'green',\n",
    "'green', 'red', 'green', 'green', 'green', 'red', 'red',\n",
    "'blue', 'green', 'blue', 'red', 'green', 'green', 'green',\n",
    "'blue', 'green', 'green', 'red', 'green', 'green', 'blue',\n",
    "'red', 'red', 'blue', 'green', 'green', 'green', 'green',\n",
    "'green', 'red', 'red', 'green', 'green', 'green', 'red',\n",
    "'green', 'green', 'green', 'red', 'blue', 'blue', 'green',\n",
    "'red', 'green', 'green', 'red', 'red', 'green', 'red', 'blue',\n",
    "'green', 'green', 'green', 'green', 'blue', 'red', 'red',\n",
    "'green', 'blue', 'green', 'green', 'green', 'green', 'red']\n",
    "})"
   ]
  },
  {
   "cell_type": "code",
   "execution_count": 87,
   "metadata": {},
   "outputs": [
    {
     "data": {
      "text/plain": [
       "<Axes: xlabel='Color'>"
      ]
     },
     "execution_count": 87,
     "metadata": {},
     "output_type": "execute_result"
    },
    {
     "data": {
      "image/png": "[encoded data removed]",
      "text/plain": [
       "<Figure size 1000x600 with 1 Axes>"
      ]
     },
     "metadata": {},
     "output_type": "display_data"
    }
   ],
   "source": [
    "observed = pd.crosstab( my_sample.Color,my_sample.Group)\n",
    "observed.plot(kind=\"bar\", figsize=(10, 6))"
   ]
  },
  {
   "cell_type": "code",
   "execution_count": null,
   "metadata": {},
   "outputs": [],
   "source": [
    "#Je kan de chi-kwadraat test gebruiken om te kijken of er een verband is tussen de groep en de kleur\n",
    "#Daarnaast kan je ook de Cramer's v gebruiken om te zien hoe sterk dit verband is"
   ]
  },
  {
   "cell_type": "code",
   "execution_count": 94,
   "metadata": {},
   "outputs": [
    {
     "name": "stdout",
     "output_type": "stream",
     "text": [
      "Chi-squared       : 8.7762\n",
      "Degrees of freedom: 4\n",
      "P-value           : 0.0669\n",
      "9.487729036781158\n",
      "0.9368129217673022\n"
     ]
    }
   ],
   "source": [
    "chi2, p, df, expected = stats.chi2_contingency(observed)\n",
    "alpha = 0.05\n",
    "print(\"Chi-squared       : %.4f\" % chi2)\n",
    "print(\"Degrees of freedom: %d\" % df)\n",
    "print(\"P-value           : %.4f\" % p)\n",
    "g = stats.chi2.isf(alpha, df=df)\n",
    "print(g)\n",
    "#Je verlegt de H0 niet omdat de p-value groter is dan de alpha\n",
    "# je verlegt de H0 ook niet omdat chi2 kleiner is dan g\n",
    "dof = min(observed.shape) - 1\n",
    "cramers_v = np.sqrt(chi2 / (dof * n))\n",
    "print(cramers_v)"
   ]
  },
  {
   "cell_type": "code",
   "execution_count": 95,
   "metadata": {},
   "outputs": [
    {
     "data": {
      "text/html": [
       "<div>\n",
       "<style scoped>\n",
       "    .dataframe tbody tr th:only-of-type {\n",
       "        vertical-align: middle;\n",
       "    }\n",
       "\n",
       "    .dataframe tbody tr th {\n",
       "        vertical-align: top;\n",
       "    }\n",
       "\n",
       "    .dataframe thead th {\n",
       "        text-align: right;\n",
       "    }\n",
       "</style>\n",
       "<table border=\"1\" class=\"dataframe\">\n",
       "  <thead>\n",
       "    <tr style=\"text-align: right;\">\n",
       "      <th></th>\n",
       "      <th>Group</th>\n",
       "      <th>Color</th>\n",
       "    </tr>\n",
       "  </thead>\n",
       "  <tbody>\n",
       "    <tr>\n",
       "      <th>0</th>\n",
       "      <td>Staff</td>\n",
       "      <td>blue</td>\n",
       "    </tr>\n",
       "    <tr>\n",
       "      <th>1</th>\n",
       "      <td>Faculty</td>\n",
       "      <td>red</td>\n",
       "    </tr>\n",
       "    <tr>\n",
       "      <th>2</th>\n",
       "      <td>Faculty</td>\n",
       "      <td>red</td>\n",
       "    </tr>\n",
       "    <tr>\n",
       "      <th>3</th>\n",
       "      <td>Staff</td>\n",
       "      <td>blue</td>\n",
       "    </tr>\n",
       "    <tr>\n",
       "      <th>4</th>\n",
       "      <td>Staff</td>\n",
       "      <td>blue</td>\n",
       "    </tr>\n",
       "    <tr>\n",
       "      <th>...</th>\n",
       "      <td>...</td>\n",
       "      <td>...</td>\n",
       "    </tr>\n",
       "    <tr>\n",
       "      <th>75</th>\n",
       "      <td>Staff</td>\n",
       "      <td>green</td>\n",
       "    </tr>\n",
       "    <tr>\n",
       "      <th>76</th>\n",
       "      <td>Student</td>\n",
       "      <td>green</td>\n",
       "    </tr>\n",
       "    <tr>\n",
       "      <th>77</th>\n",
       "      <td>Staff</td>\n",
       "      <td>green</td>\n",
       "    </tr>\n",
       "    <tr>\n",
       "      <th>78</th>\n",
       "      <td>Staff</td>\n",
       "      <td>green</td>\n",
       "    </tr>\n",
       "    <tr>\n",
       "      <th>79</th>\n",
       "      <td>Faculty</td>\n",
       "      <td>red</td>\n",
       "    </tr>\n",
       "  </tbody>\n",
       "</table>\n",
       "<p>80 rows × 2 columns</p>\n",
       "</div>"
      ],
      "text/plain": [
       "      Group  Color\n",
       "0     Staff   blue\n",
       "1   Faculty    red\n",
       "2   Faculty    red\n",
       "3     Staff   blue\n",
       "4     Staff   blue\n",
       "..      ...    ...\n",
       "75    Staff  green\n",
       "76  Student  green\n",
       "77    Staff  green\n",
       "78    Staff  green\n",
       "79  Faculty    red\n",
       "\n",
       "[80 rows x 2 columns]"
      ]
     },
     "execution_count": 95,
     "metadata": {},
     "output_type": "execute_result"
    }
   ],
   "source": [
    "my_sample"
   ]
  },
  {
   "cell_type": "code",
   "execution_count": 5,
   "metadata": {},
   "outputs": [],
   "source": [
    "sample_data = pd.DataFrame(data = {\n",
    "'x': [5383, 5273, 5397, 4149, 6403, 5161, 5237, 5437, 5443, 4700,\n",
    "4538, 4857, 5342, 5092, 5512, 5690, 4587, 4450, 4625,\n",
    "5044, 5066, 4770, 4960, 4500, 5315, 4598, 6106, 4879,\n",
    "4790, 4236, 5660, 4395, 5580, 5188, 4797, 4901, 5003,\n",
    "5812, 4494, 4897, 4404, 4876, 5027, 5216, 5859, 5603,\n",
    "5150, 4906, 4888, 4990, 5073, 4997, 5547, 5391, 5147,\n",
    "4967, 5020, 5580, 5493, 4664, 4396, 4868, 4518, 5154,\n",
    "4667, 5211, 5132, 6275, 4972, 4804, 5552, 5333, 4607,\n",
    "5133, 4803, 4721, 4530, 4899, 5826, 4768, 5623, 4426,\n",
    "5738, 4907, 5057, 4903, 4688, 4936, 5181, 5329, 5144,\n",
    "4927, 4024, 4890, 4176, 5638, 5070, 6315, 4795, 4887],\n",
    "'y': [4500, 4944, 4423, 4847, 4364, 4642, 4185, 4549, 4452, 4748,\n",
    "4409, 4906, 4343, 4695, 4595, 4338, 4845, 4865, 4447,\n",
    "4290, 4442, 4537, 4998, 4761, 4479, 4132, 4084, 4309,\n",
    "4416, 4717, 4446, 4160, 4409, 4499, 4703, 4375, 4513,\n",
    "4352, 4638, 4600, 4073, 4483, 4548, 4273, 4412, 4845,\n",
    "4150, 4677, 4530, 4811, 4607, 4361, 4831, 4655, 5036,\n",
    "4255, 4464, 4875, 4480, 4894, 4399, 4417, 4515, 4927,\n",
    "4041, 4527, 4525, 4536, 4462, 4355, 4473, 4828, 4293,\n",
    "4455, 4526, 4170, 4554, 4423, 4944, 4757, 4619, 4691,\n",
    "4178, 4986, 4073, 4786, 4873, 4656, 4220, 4270, 4550,\n",
    "4467, 4314, 4608, 4661, 4499, 4228, 4519, 4526, 4925]})"
   ]
  },
  {
   "cell_type": "code",
   "execution_count": 6,
   "metadata": {},
   "outputs": [
    {
     "data": {
      "text/plain": [
       "<Axes: xlabel='x', ylabel='y'>"
      ]
     },
     "execution_count": 6,
     "metadata": {},
     "output_type": "execute_result"
    },
    {
     "data": {
      "image/png": "[encoded data removed]",
      "text/plain": [
       "<Figure size 640x480 with 1 Axes>"
      ]
     },
     "metadata": {},
     "output_type": "display_data"
    }
   ],
   "source": [
    "sns.regplot(x=sample_data.x, y= sample_data.y)"
   ]
  },
  {
   "cell_type": "code",
   "execution_count": 7,
   "metadata": {},
   "outputs": [
    {
     "name": "stdout",
     "output_type": "stream",
     "text": [
      "R = -0.0808460923471555\n",
      "R² = 0.006536090647804794\n"
     ]
    }
   ],
   "source": [
    "cor = np.corrcoef(sample_data.x, sample_data.y)[0][1]\n",
    "print(f\"R = {cor}\")\n",
    "print(f\"R² = {cor**2}\")"
   ]
  },
  {
   "cell_type": "code",
   "execution_count": 8,
   "metadata": {},
   "outputs": [
    {
     "name": "stdout",
     "output_type": "stream",
     "text": [
      "Regression line: ŷ = 4737.65 + -0.04 x\n"
     ]
    }
   ],
   "source": [
    "from sklearn.linear_model import LinearRegression\n",
    "\n",
    "male_chinstrap_x = sample_data.x.values.reshape(-1,1)\n",
    "male_chinstrap_y = sample_data.y\n",
    "\n",
    "weight_model = LinearRegression().fit(male_chinstrap_x, male_chinstrap_y)\n",
    "\n",
    "print(f\"Regression line: ŷ = {weight_model.intercept_:.2f} + {weight_model.coef_[0]:.2f} x\")"
   ]
  },
  {
   "cell_type": "code",
   "execution_count": 10,
   "metadata": {},
   "outputs": [
    {
     "name": "stdout",
     "output_type": "stream",
     "text": [
      "[4737.65005693]\n"
     ]
    }
   ],
   "source": [
    "print(weight_model.predict([[0]]))"
   ]
  },
  {
   "cell_type": "code",
   "execution_count": null,
   "metadata": {},
   "outputs": [],
   "source": [
    "#vraag 9\n",
    "# A is Enkelvoudige exponentiële afvlakking met α = 0.8\n",
    "#B is Enkelvoudige exponentiële afvlakking met α = 0.2"
   ]
  }
 ],
 "metadata": {
  "interpreter": {
   "hash": "74f11ca9d6db33077ac69355024b06a5a22dc412016f691a181236cda006482c"
  },
  "kernelspec": {
   "display_name": "Python 3.10.4 64-bit",
   "language": "python",
   "name": "python3"
  },
  "language_info": {
   "codemirror_mode": {
    "name": "ipython",
    "version": 3
   },
   "file_extension": ".py",
   "mimetype": "text/x-python",
   "name": "python",
   "nbconvert_exporter": "python",
   "pygments_lexer": "ipython3",
   "version": "3.12.2"
  },
  "orig_nbformat": 4
 },
 "nbformat": 4,
 "nbformat_minor": 2
}
