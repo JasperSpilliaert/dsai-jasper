{
  "cells": [
    {
      "cell_type": "code",
      "execution_count": 20,
      "metadata": {
        "id": "47S88fI_5QL1"
      },
      "outputs": [],
      "source": [
        "# Importeren van de nodige packages\n",
        "# Vul zelf aan met extra packages als dit nodig is voor de oefeningen!\n",
        "import numpy as np\n",
        "import pandas as pd\n",
        "import scipy.stats as stats\n",
        "import matplotlib.pyplot as plt\n",
        "import seaborn as sns\n",
        "import math"
      ]
    },
    {
      "cell_type": "markdown",
      "metadata": {
        "id": "TGIwed5cUGQv"
      },
      "source": [
        "----\n",
        "\n",
        "## Vraag 1 [2 pt]\n",
        "\n",
        "Wat is het meetniveau van elk van deze variabelen:\n",
        "\n",
        "1. [0.5pt] de afstand thuis-werk in kilometers\n",
        "2. [0.5pt] het meest frequent gebruikte vervoersmiddel om boodschappen te doen van de respondenten (te voet, per fiets, per trein, ...)\n",
        "3. [0.5pt] frequentie van het gebruik van het openbaar vervoer (nooit, minder dan 1 keer per week, 1 keer per week, 2 keer per week, meer dan 2 keer per week)\n",
        "4. [0.5pt] het geboortejaar van de respondenten"
      ]
    },
    {
      "cell_type": "markdown",
      "metadata": {},
      "source": [
        "### Antwoord\n",
        "\n",
        "1. Ratio \n",
        "2. Nominaal \n",
        "3. Nominaal\n",
        "4. Ordinaal"
      ]
    },
    {
      "cell_type": "markdown",
      "metadata": {
        "id": "tMydjh51S-_L"
      },
      "source": [
        "----\n",
        "\n",
        "## Vraag 2 [3 pt]\n",
        "\n",
        "Ziekenhuizen zijn verplicht om aan kwaliteitszorg te doen. Nadat een patiënt uit het ziekenhuis werd ontslagen na een opname, krijgt deze een e-mail. De e-mail bevat een link naar een enquête waarlangs de patiënt de gekregen zorg kan beoordelen.\n",
        "\n",
        "1. [1pt] Is dit een aselecte steekproef/random sample? Leg uit.\n",
        "2. [1pt] Welk type fout(en) wordt hier gemaakt?\n",
        "3. [1pt] Is dit een goede steekproef? Leg uit."
      ]
    },
    {
      "cell_type": "markdown",
      "metadata": {},
      "source": [
        "### Antwoord\n",
        "\n",
        "1. Neen, mensen die geen digitale email bezitten zullen de enquête nooit krijgen. Of mensen die nooit ontslagen worden en permanent in het ziekenhuis verblijven, deze zullen ook de enquête niet kunnen invullen\n",
        "2. \n",
        "- Sampling error\n",
        "  - Accidental: Het is mogelijk dat door puur geluk, enkel maar mannen en geen vrouwen de mail met de enquête kregen.\n",
        "  - Systematic: Alleen mensen met een email zitten in de steekproef\n",
        "- Non-Sampling\n",
        "  - Accidental: Iemand duidt het verkeerde antwoord aan in de enquête\n",
        "  - Systematic: Respondenten liegen in de enquête, ze zeggen bijvoorbeeld dat het slecht was, terwijl dit niet het geval was.\n",
        "3. Neen, het is geen aselecte steekproef die representatief is voor de populatie"
      ]
    },
    {
      "cell_type": "markdown",
      "metadata": {
        "id": "2Zsdg3d8dmm-"
      },
      "source": [
        "----\n",
        "\n",
        "## Vraag 3 [3pt]\n",
        "\n",
        "Men ondervroeg een random sample van huurders naar de huurprijs die zij maandelijks moeten betalen.\n",
        "\n",
        "1. [2pt] Wat is het 95% betrouwbaarheidsinterval voor de gemiddelde huurprijs?\n",
        "2. [1pt] Zeg in je eigen woorden wat de betekenis is van dit interval."
      ]
    },
    {
      "cell_type": "code",
      "execution_count": 2,
      "metadata": {
        "id": "F63ZzexlcgNQ"
      },
      "outputs": [],
      "source": [
        "dfhuur = pd.DataFrame(data={\n",
        "    'huur': [499,418,466,489,485,402,409,544,565,560,548,513,502,561,513,590,546,555,548,613,685,655,659,652,656,630,604,601,668,669,610,632,654,605,752,799,779,796,714,788,705,754,719,723,701,799,743,782,740,747,763,723,710,757,734,713,742,717,764,718,795,785,747,759,806,871,868,810,869,837,828,830,812,867,847,886,879,881,874,869,875,898,845,854,890,844,835,831,838,894,826,896,866,829,841,806,842,842,872,895,871,881,849,895,838,862,890,883,842,817,828,860,816,817,814,882,888,904,918,993,999,915,973,912,984,939,944,990,941,981,933,965,951,908,946,911,964,943,965,919,971,942,940,920,934,931,999,992,926,959,973,983,940,950,935,1079,1042,1033,1007,1078,1066,1027,1052,1009,1030,1015,1064,1067,1071,1089,1012,1018,1016,1016,1063,1328,1147,1185,1192,1162]\n",
        "})"
      ]
    },
    {
      "cell_type": "code",
      "execution_count": 11,
      "metadata": {},
      "outputs": [
        {
          "name": "stdout",
          "output_type": "stream",
          "text": [
            "(808.7589624912348, 858.1410375087653)\n",
            "[808.7590, 858.1410]\n"
          ]
        }
      ],
      "source": [
        "n = len(dfhuur.huur)\n",
        "s = dfhuur.huur.std(ddof=1)\n",
        "print(stats.t.interval(0.95, df=n-1, loc=dfhuur.huur.mean(), scale=s/np.sqrt(n)))\n",
        "print(\"[%.4f, %.4f]\" % stats.t.interval(0.95, df=n-1, loc=dfhuur.huur.mean(), scale=s/np.sqrt(n)))"
      ]
    },
    {
      "cell_type": "markdown",
      "metadata": {},
      "source": [
        "### Antwoord\n",
        "\n",
        "1. [808.7590, 858.1410]\n",
        "2. Een betrouwbaarheidsinterval van 95% is een interval vanwaar we 95% zeker zijn dat het de gemiddelde huurprijs zal bevatten \n"
      ]
    },
    {
      "cell_type": "markdown",
      "metadata": {
        "id": "o0TC-q44ypdO"
      },
      "source": [
        "----\n",
        "\n",
        "## Vraag 4 [4 pt] \n",
        "\n",
        "In het Onderzoek Verplaatsingsgedrag Vlaanderen (2021-2022) vinden we de volgende cijfers in verband met de gemiddelde afstand tussen thuisadres en werkadres, namelijk $\\mu = 19.70~km$ en $\\sigma = 23.35~km$.\n",
        "\n",
        "1. [1pt] Hoeveel procent van de werknemers wonen op minder dan 5 km van hun werk?\n",
        "\n",
        "2. [1pt] Hoeveel procent van de werknemers wonen op meer dan 50 km van hun werk?\n",
        "\n",
        "3. [1pt] In het kader van de elektrische fiets is er een groot potentieel bij werknemers die tussen de 10 km en 20 km van hun werk wonen. Over welk percentage van werknemers gaat het?\n",
        "\n",
        "4. [1pt] 75% van de werknemers woont op minder dan hoeveel kilometer van hun werk?"
      ]
    },
    {
      "cell_type": "markdown",
      "metadata": {},
      "source": [
        "### Antwoord\n",
        "\n",
        "1. 0.2645 procent\n",
        "2. 0.0972 procent\n",
        "3. 0.1662 procent\n",
        "4. 35.4493 kilometer\n"
      ]
    },
    {
      "cell_type": "code",
      "execution_count": 13,
      "metadata": {},
      "outputs": [
        {
          "name": "stdout",
          "output_type": "stream",
          "text": [
            "1: 0.2645\n",
            "2: 0.0972\n",
            "3: 0.1662\n",
            "4: 35.4493\n"
          ]
        }
      ],
      "source": [
        "mu = 19.7\n",
        "s = 23.35\n",
        "\n",
        "print(\"1: %.4f\" % stats.norm.cdf(5, mu, s))\n",
        "print(\"2: %.4f\" % stats.norm.sf(50, mu, s))\n",
        "print(\"3: %.4f\" % (stats.norm.cdf(20, mu, s) - stats.norm.cdf(10, mu, s)))\n",
        "print(\"4: %.4f\" % stats.norm.isf(1-0.75, loc=mu, scale=s))\n"
      ]
    },
    {
      "cell_type": "markdown",
      "metadata": {
        "id": "nDcfkbu-rHu4"
      },
      "source": [
        "----\n",
        "\n",
        "## Vraag 5 [3 pt] \n",
        "\n",
        "Een werknemer die veel moet bellen heeft geschat dat wanneer ze een klant belt, de de kans dat ze de klant bereikt 60% is (onafhankelijk van het aantal keer dat ze al gebeld heeft). \n",
        "\n",
        "1. [1pt] Bereken de kans dat de werknemer haar klant bereikt bij het eerste gesprek.\n",
        "\n",
        "2. [1pt] Bereken de kans dat de werknemer haar klant bereikt bij het tweede gesprek.\n",
        "\n",
        "3. [1pt] Bereken de kans dat de werknemer geen succes heeft bij twee opeenvolgende gesprekken.\n"
      ]
    },
    {
      "cell_type": "markdown",
      "metadata": {},
      "source": [
        "### Antwoord\n",
        "\n",
        "1. De kans is 0.6000\n",
        "2. De kans is 0.2400\n",
        "3. De kans is 0.1600\n"
      ]
    },
    {
      "cell_type": "code",
      "execution_count": 14,
      "metadata": {},
      "outputs": [
        {
          "name": "stdout",
          "output_type": "stream",
          "text": [
            "1: 0.6000\n",
            "2: 0.2400\n",
            "3: 0.1600\n"
          ]
        }
      ],
      "source": [
        "# bellen is onafhankelijk van de vorige keer dat er gebeld is\n",
        "# Bij vraag 2, is het de 1ste keer mislukt is\n",
        "\n",
        "p_bereikt = 0.6\n",
        "p_niet_bereikt = 1 - p_bereikt\n",
        "\n",
        "print(\"1: %.4f\" % p_bereikt)\n",
        "print(\"2: %.4f\" % (p_niet_bereikt * p_bereikt))\n",
        "print(\"3: %.4f\" % (p_niet_bereikt * p_niet_bereikt))"
      ]
    },
    {
      "cell_type": "markdown",
      "metadata": {
        "id": "9izWLVqpvr-l"
      },
      "source": [
        "----\n",
        "\n",
        "## Vraag 6 [5 pt] \n",
        "\n",
        "Het gewicht van jongens op een bepaalde leeftijd is normaal verdeeld met een gemiddelde van 37.8 kg. Tegen een weeshuis in een ontwikkelingsland wordt een klacht ingediend door een NGO dat de kinderen die er verblijven ondervoerd zijn. Een aselecte steekproef levert de hieronder gegeven metingen op.\n",
        "\n",
        "Is er reden om te vermoeden dat de jongens in dit weeshuis ondervoed zijn? Gebruik een significantieniveau van 5%.\n",
        "\n",
        "1. [1pt] Welke hypothesetoets ga je toepassen om deze onderzoeksvraag te beantwoorden? Wees zo specifiek mogelijk!\n",
        "\n",
        "2. [1pt] Formuleer de nulhypothese en de alternatieve hypothese\n",
        "\n",
        "3. [1pt] Bereken de gepaste toetsingsgrootheid (teststatistiek) voor deze toets. Geef het symbool en de waarde.\n",
        "\n",
        "4. [1pt] Bereken de p-waarde.\n",
        "\n",
        "5. [1pt] Trek een besluit op basis van de vorige stap en formuleer een antwoord op de onderzoeksvraag."
      ]
    },
    {
      "cell_type": "code",
      "execution_count": 15,
      "metadata": {},
      "outputs": [],
      "source": [
        "weights = np.array(\n",
        "    [36.8, 37.3, 37.4, 37.2, 32. , 35.3, 40.5, 35.3, 31.2, 39.6,\n",
        "     36.1, 29.5, 35. , 37. , 35.6, 35. , 36.8, 38.1, 39.6, 35.6,\n",
        "     42.3, 38.6, 37.8, 39.2, 39.4])"
      ]
    },
    {
      "cell_type": "code",
      "execution_count": 24,
      "metadata": {},
      "outputs": [
        {
          "name": "stdout",
          "output_type": "stream",
          "text": [
            "Mean sample: 36.7280\n",
            "p-waarde: 7.706520293724057e-07\n"
          ]
        }
      ],
      "source": [
        "m_sample = np.mean(weights)\n",
        "print(\"Mean sample: %.4f\" % m_sample)\n",
        "\n",
        "s_sample = np.std(weights,ddof=1)\n",
        "\n",
        "p = stats.t.cdf(m_sample, loc = 37.8, scale = s_sample / math.sqrt(n), df = n - 1)\n",
        "print(f\"p-waarde: {p}\")"
      ]
    },
    {
      "cell_type": "markdown",
      "metadata": {},
      "source": [
        "### Antwoord\n",
        "\n",
        "1. We passen een left tailed t test toe. We gebruiken een t test omdat we niet weten wat de standaardafwijking van de populatie is. We gebruiken een left tailed test omdat we willen kijken als de jongens ondervoed zijn, of met andere woorden als het gewicht minder is.\n",
        "2. \n",
        "- $H_0: \\mu = 37.8$ (Het gewicht van de jongens in het ontwikkelingsland is hetzelfde als die van gezonde jongens)\n",
        "- $H_1: \\mu < 37.8$ (Het gewicht van de jongens in het ontwikkelingsland is lager dan dat van de gezonde jongens)\n",
        "\n",
        "3. De toetsingsgrootheid is $\\overline{x} = 36.7280$\n",
        "4. De p-waarde is $7.7065e-07$\n",
        "5. De p-waarde is kleiner dan het significantie niveau van 5%. We verwerpen dus de nul hypothese en besluiten dat bij deze steekproef, er voldoende bewijs is om te besluiten dat het gewicht van de jongens in het ontwikkelingsland inderdaad lager is die van gezonde jongens\n"
      ]
    },
    {
      "cell_type": "markdown",
      "metadata": {
        "id": "2o0tbqViXbAw"
      },
      "source": [
        "----\n",
        "\n",
        "## Vraag 7 [6 pt] \n",
        "\n",
        "In het Onderzoek Verplaatsingsgedrag Vlaanderen (2021-2022) vinden we de volgende cijfers in verband met de verdeling van het rijbewijsbezit volgens netto-inkomen op persoonsniveau voor personen vanaf 18 jaar (exclusief scholieren en studenten).  Is er een verband tussen het inkomen en het al dan niet hebben van een rijbewijs?\n",
        "\n",
        "1. [1pt] Welke hypothesetoets ga je toepassen om deze onderzoeksvraag te beantwoorden? Wees zo specifiek mogelijk!\n",
        "\n",
        "2. [1pt] Formuleer de nulhypothese en de alternatieve hypothese\n",
        "\n",
        "3. [1pt] Bereken de gepaste toetsingsgrootheid (teststatistiek) voor deze toets. Geef het symbool en de waarde\n",
        "\n",
        "4. [1pt] Bereken de p-waarde\n",
        "\n",
        "5. [1pt] Trek een besluit op basis van de vorige stap en formuleer een antwoord op de onderzoeksvraag.\n",
        "\n",
        "6. [1pt] Hoeveel procent van de ondervraagden heeft geen rijbewijs?"
      ]
    },
    {
      "cell_type": "code",
      "execution_count": 99,
      "metadata": {
        "colab": {
          "base_uri": "https://localhost:8080/",
          "height": 237
        },
        "id": "AFJR4JDlXaUm",
        "outputId": "ae9da66f-8cf4-4faf-ca51-cd7f26948ed0"
      },
      "outputs": [],
      "source": [
        "dfrijbewijs = pd.DataFrame(data={\n",
        "    'inkomen': ['0 - 1000 EUR', '1001 - 1500 EUR', '1501 - 2000 EUR', '2001 - 2500 EUR', '2501 - 3000 EUR', '>3000 EUR', 'wenst niet te antwoorden op deze vraag'],\n",
        "    'ja': [149, 469, 800, 653, 325, 270, 230],\n",
        "    'neen': [61, 157, 55, 20, 10, 4, 51]}).set_index('inkomen')\n",
        "\n",
        "# types = ['0 - 1000 EUR', '1001 - 1500 EUR', '1501 - 2000 EUR', '2001 - 2500 EUR', '2501 - 3000 EUR', '>3000 EUR', 'wenst niet te antwoorden op deze vraag']\n",
        "# n_types = len(types)\n",
        "\n",
        "# observed =   np.array(dfrijbewijs.ja)\n",
        "# expected_p = np.array([   1/n, 1/n, 1/n, 1/n, 1/n, 1/n, 1/n])\n",
        "# expected = expected_p * sum(observed)\n",
        "# print(expected)\n",
        "\n",
        "# chi2, p = stats.chisquare(f_obs=observed, f_exp=expected)\n",
        "\n",
        "# observed = pd.crosstab(dfrijbewijs.ja, dfrijbewijs.index)\n",
        "# chi2, p, df, expected = stats.chi2_contingency(observed)\n",
        "\n",
        "\n",
        "# print(\"Chi-squared        χ² = %.4f\" % chi2)\n",
        "# print(\"p-value             p = %.4f\" % p)"
      ]
    },
    {
      "cell_type": "code",
      "execution_count": 110,
      "metadata": {},
      "outputs": [
        {
          "name": "stdout",
          "output_type": "stream",
          "text": [
            "Chi-squared        χ² = 42.0000\n",
            "p-value             p = 0.2270\n"
          ]
        }
      ],
      "source": [
        "\n",
        "observed = pd.crosstab(dfrijbewijs.ja, dfrijbewijs.index)\n",
        "chi2, p, df, expected = stats.chi2_contingency(observed)\n",
        " \n",
        " \n",
        "print(\"Chi-squared        χ² = %.4f\" % chi2)\n",
        "print(\"p-value             p = %.4f\" % p)"
      ]
    },
    {
      "cell_type": "code",
      "execution_count": 114,
      "metadata": {},
      "outputs": [
        {
          "name": "stdout",
          "output_type": "stream",
          "text": [
            "Procent geen rijbewijs 0.1100\n"
          ]
        }
      ],
      "source": [
        "sumJa = sum(dfrijbewijs.ja)\n",
        "sumNeen = sum(dfrijbewijs.neen)\n",
        "totaalSum = sumJa + sumNeen\n",
        "\n",
        "print(\"Procent geen rijbewijs %.4f\" % (sumNeen / totaalSum))"
      ]
    },
    {
      "cell_type": "markdown",
      "metadata": {},
      "source": [
        "### Antwoord\n",
        "\n",
        "1. We passen hierbij de chi kwadraat test voor onafhankelijkheid toe. In het geval dat er geen verband is tussen het inkomen en het al dan niet hebben van een rijbewijs, zouden de afwijkingen klein moeten zijn.\n",
        "2. \n",
        "\n",
        "- $H_0$: Er is geen verband tussen het inkomen en het al dan niet hebben van een rijbewijs (de verschillen tussen de geobserveerde en verwachte waarden zijn klein)\n",
        "- $H_A$: Er is een verband tussen het inkomen en het al dan niet hebben van een rijbewijs (de verschillen tussen de geobserveerde en verwachte waarden zijn groot)\n",
        "\n",
        "3. De toetsingsgrootheid voor deze toets is $\\chi^2 = 42.0000$\n",
        "4. De p-waarde is: 0.2270\n",
        "5. De p-warde is hoger dan het significantie niveau, we verwerpen de nul hypothese dus niet. Er is dus geen verband tussen het inkomen en het al dan niet hebben van een rijbewijs\n",
        "6. Procent geen rijbewijs 11%"
      ]
    },
    {
      "cell_type": "markdown",
      "metadata": {
        "id": "mJUK_rfqH6tR"
      },
      "source": [
        "----\n",
        "\n",
        "## Vraag 8 [13 pt] \n",
        "\n",
        "Hieronder vind je de restaurant scores voor een aantal restaurants uit New York City (NYC) en Long Island (LI).\n",
        "\n",
        "1. [1pt] Bereken eerst op basis van de score voor *eten*, *decor* en *service* de *totaalscore*. **Als je de totaalscore niet kan berekenen, werk dan verder met de score voor het eten.**\n",
        "\n",
        "2. [1pt] Maak de onderstaande grafiek."
      ]
    },
    {
      "attachments": {
        "image.png": {
          "image/png": "[encoded data removed]"
        }
      },
      "cell_type": "markdown",
      "metadata": {},
      "source": [
        "![](attachment:image.png)"
      ]
    },
    {
      "cell_type": "markdown",
      "metadata": {},
      "source": [
        "3. [2pt] Maak gebruik van lineaire regressie om te proberen de *prijs* te voorspellen op basis van de *totaalscore*. Geef de vergelijking van de regressierechte.\n",
        "\n",
        "4. [1pt] Geef de geschatte *prijs* voor een *totaalscore* = 70.\n",
        "\n",
        "5. [1pt] Bereken de correlatiecoëfficient (symbool + waarde).\n",
        "\n",
        "6. [1pt] Geef de interpretatie voor de waarde van de correlatiecoëfficient.\n",
        "\n",
        "7. [1pt] Geef een overzicht van het aantal, minimum, maximum, gemiddelde, standaarddeviatie, ... in de kolommen met kwantitatieve variabelen.\n",
        "\n",
        "8. [1pt] De variatiecoëfficiënt is een spreidingsmaat die onafhankelijk is van de eenheid waarin gegevens zijn uitgedrukt en wordt gedefinieerd als de standaarddeviatie gedeeld door het gemiddelde. Bereken de variatiecoëfficiënt voor *de score voor eten*.\n",
        "\n",
        "9. [1pt] Hoeveel restaurants zijn er in New York City met een *prijs* hoger dan \\$65 (\\$65 niet inbegrepren)?\n",
        "\n",
        "10. Zijn de *prijzen* in New York City significant ($\\alpha = 0.05$) hoger dan in Long Island?\n",
        "\n",
        "    - [0.5pt] Met welke statistische toets ga je dit bepalen?\n",
        "    - [0.5pt] Formuleer de nulhypothese en de alternatieve hypothese\n",
        "    - [1pt] Bereken de overschrijdingskans $p$\n",
        "    - [1pt] Trek een besluit op basis van deze waarde en beantwoord de onderzoeksvraag."
      ]
    },
    {
      "cell_type": "code",
      "execution_count": 75,
      "metadata": {
        "colab": {
          "base_uri": "https://localhost:8080/",
          "height": 206
        },
        "id": "kIp55Z1wD758",
        "outputId": "de67f69f-0d81-4ceb-c540-0e737da7e9de"
      },
      "outputs": [
        {
          "name": "stdout",
          "output_type": "stream",
          "text": [
            "totaalScore 0      55\n",
            "1      60\n",
            "2      56\n",
            "3      50\n",
            "4      50\n",
            "       ..\n",
            "101    73\n",
            "102    68\n",
            "103    63\n",
            "104    69\n",
            "105    61\n",
            "Name: totaalScore, Length: 106, dtype: int64\n"
          ]
        }
      ],
      "source": [
        "dfrestaurants = pd.DataFrame(\n",
        "    data={'naam': [\"101\",\"12th St. Bar & Grill\",\"202 Café\",\"212\",\"24 Prince\",\"26 Seats\",\"360\",\"41 Greenwich Avenue\",\"44\",\"44 X Hell's Kitchen\",\"5 Ninth\",\"71 Irving Place\",\"718\",\"A.O.C.\",\"A.O.C. Bedford\",\"Abboccato\",\"Abigael's\",\"Above\",\"Adrienne's Pizzabar\",\"Aesop's Tables\",\"Agata & Valentina Ristorante\",\"Agave\",\"Agnanti\",\"Aix Brasserie\",\"Aja\",\"Aji Sushi\",\"Areo\",\"Bouley, Upstairs\",\"Casa Mono\",\"Cesca\",\"Coals\",\"Etats-Unis\",\"Gari\",\"Henry's End\",\"ino\",\"inoteca\",\"Joya\",\"Lupa\",\"MarkJoseph Steakhouse\",\"Noodle Pudding\",\"Norma's\",\"Osaka\",\"Pearl Oyster Bar\",\"Piccola Venezia\",\"Po\",\"Scalinatella\",\"Sparks Steak House\",\"Spigolo\",\"Sushi Ann\",\"Sushi Sen-nin\",\"Tommaso\",\"Wolfgang's Steakhouse\",\"Yakitori Totto\",\"105 Harbor\",\"1770 House Restaurant & Inn\",\"25 East American Bistro\",\"56th Fighter Group\",\"Abel Conklin's\",\"Adirondack Grill\",\"Akbar\",\"Albert's Mandarin Gourmet\",\"Allison's Ristorante\",\"Almond\",\"Amici\",\"Aqua Blue Bar & Grill\",\"Argyle Grill & Tavern\",\"Ariana\",\"Ayhan's Fish Kebab\",\"Ayhan's Mediterranean Café\",\"B. Smith's\",\"Baang Café & Bar\",\"Babylon Carriage House\",\"Bamboo Restaurant & Sushi\",\"Barney's\",\"Barolo\",\"Basil Leaf Café\",\"Bay & Main\",\"Bayou, The\",\"Bayport House, The\",\"Bayview Inn & Restaurant\",\"Beacon\",\"Bedlam Street Fish & Clam\",\"Bella Vita City Grill\",\"Bellport, The\",\"Benihana\",\"Benny's Ristorante\",\"Maureen & Daughters Kitchen\",\"Minami\",\"Mirko's\",\"Nisen\",\"Palm\",\"Plaza Café\",\"Robert's\",\"Rothmann's Steakhouse\",\"Royal Tangra Masala\",\"Sempre Vivolo\",\"Soigne\",\"Sole\",\"Starr Boggs\",\"Steve's Piccola Bussola\",\"Stonewalls\",\"Tellers American Chophouse\",\"Trattoria Diane\",\"Vine Street Café\",\"Vintage Prime Steakhouse\",\"Yuki's Palette\"],\n",
        "    'locatie': [\"NYC\",\"NYC\",\"NYC\",\"NYC\",\"NYC\",\"NYC\",\"NYC\",\"NYC\",\"NYC\",\"NYC\",\"NYC\",\"NYC\",\"NYC\",\"NYC\",\"NYC\",\"NYC\",\"NYC\",\"NYC\",\"NYC\",\"NYC\",\"NYC\",\"NYC\",\"NYC\",\"NYC\",\"NYC\",\"NYC\",\"NYC\",\"NYC\",\"NYC\",\"NYC\",\"NYC\",\"NYC\",\"NYC\",\"NYC\",\"NYC\",\"NYC\",\"NYC\",\"NYC\",\"NYC\",\"NYC\",\"NYC\",\"NYC\",\"NYC\",\"NYC\",\"NYC\",\"NYC\",\"NYC\",\"NYC\",\"NYC\",\"NYC\",\"NYC\",\"NYC\",\"NYC\",\"LI\",\"LI\",\"LI\",\"LI\",\"LI\",\"LI\",\"LI\",\"LI\",\"LI\",\"LI\",\"LI\",\"LI\",\"LI\",\"LI\",\"LI\",\"LI\",\"LI\",\"LI\",\"LI\",\"LI\",\"LI\",\"LI\",\"LI\",\"LI\",\"LI\",\"LI\",\"LI\",\"LI\",\"LI\",\"LI\",\"LI\",\"LI\",\"LI\",\"LI\",\"LI\",\"LI\",\"LI\",\"LI\",\"LI\",\"LI\",\"LI\",\"LI\",\"LI\",\"LI\",\"LI\",\"LI\",\"LI\",\"LI\",\"LI\",\"LI\",\"LI\",\"LI\",\"LI\"],\n",
        "    'eten': [20,21,21,17,18,23,23,18,20,21,20,19,22,19,23,23,20,18,24,22,18,19,24,21,20,21,25,25,25,23,25,25,26,25,24,23,25,25,25,25,25,25,26,25,25,25,25,25,25,25,25,25,25,20,24,16,14,22,16,19,23,19,21,22,18,21,20,20,18,16,22,21,20,26,24,18,19,22,21,24,20,22,21,24,17,25,25,25,25,25,25,25,25,25,25,25,25,25,25,25,25,25,25,25,25,25],\n",
        "    'decor': [18,19,17,17,17,16,15,18,22,18,22,17,19,16,21,20,16,19,17,18,16,19,15,21,23,14,20,16,18,21,17,16,17,14,14,18,19,18,17,18,20,17,14,17,16,17,19,16,17,15,18,20,19,22,25,20,21,17,21,17,18,19,15,18,17,21,17,17,15,23,23,24,18,23,20,17,15,16,21,21,19,19,17,19,17,18,19,21,21,20,18,21,21,22,14,22,24,15,24,15,21,26,21,15,21,15],\n",
        "    'service': [17,20,18,16,15,19,19,19,18,19,17,16,19,16,21,21,18,18,17,20,14,18,19,20,20,20,21,18,20,21,19,23,19,24,18,20,20,21,23,22,21,20,19,23,21,21,21,21,21,20,22,20,20,20,23,17,16,21,16,18,22,21,18,21,17,19,20,19,17,17,19,18,18,24,22,19,18,18,20,24,18,21,20,21,19,24,21,24,23,21,23,24,21,22,18,24,24,21,20,21,23,22,22,23,23,21],\n",
        "    'prijs': [38,36,32,45,34,37,38,35,52,43,57,16,40,35,51,61,45,50,23,44,32,36,34,59,43,26,48,46,47,57,19,56,74,43,25,37,21,50,63,34,37,30,41,52,47,73,68,55,60,53,47,69,44,50,62,40,31,47,31,32,27,44,41,33,43,35,31,30,25,49,43,41,44,59,46,38,35,32,47,42,50,45,41,41,34,50,16,28,63,34,61,51,56,60,24,51,50,34,56,37,43,61,52,55,61,31]})\n",
        "\n",
        "dfrestaurants[\"totaalScore\"] = dfrestaurants.eten + dfrestaurants.decor + dfrestaurants.service\n",
        "print(f\"totaalScore {dfrestaurants.totaalScore}\")\n"
      ]
    },
    {
      "cell_type": "code",
      "execution_count": 76,
      "metadata": {},
      "outputs": [
        {
          "data": {
            "image/png": "[encoded data removed]",
            "text/plain": [
              "<Figure size 500x500 with 1 Axes>"
            ]
          },
          "metadata": {},
          "output_type": "display_data"
        }
      ],
      "source": [
        "dfrestaurants = dfrestaurants.reset_index()\n",
        "\n",
        "sns.lmplot(data=dfrestaurants, x='totaalScore', y='prijs');"
      ]
    },
    {
      "cell_type": "code",
      "execution_count": 77,
      "metadata": {},
      "outputs": [
        {
          "name": "stdout",
          "output_type": "stream",
          "text": [
            "Regression line: ŷ = -22.5688 + 1.0817 x\n"
          ]
        }
      ],
      "source": [
        "from sklearn.linear_model import LinearRegression\n",
        "\n",
        "restaurant_x = dfrestaurants.totaalScore.values.reshape(-1,1) #Wat er eigenlijk gebeurt is dat de \"gewone\" array [ ... , ... , ...] wordt omgezet in een array waar elk element zelf nog eens in een array zit [ [...], [...], [...]]. Dat is omdat de functie hieronder een 2D array wilt. Als je maar een 1D array meegeeft, krijg je een foutmelding en daarin staat ook dat je het kan oplossen door values.reshape\n",
        "restaurant_y = dfrestaurants.prijs\n",
        "\n",
        "weight_model = LinearRegression().fit(restaurant_x, restaurant_y) # (x is independant variable, y is dependant variable)\n",
        "\n",
        "print(f\"Regression line: ŷ = {weight_model.intercept_:.4f} + {weight_model.coef_[0]:.4f} x\")"
      ]
    },
    {
      "cell_type": "code",
      "execution_count": 80,
      "metadata": {},
      "outputs": [
        {
          "name": "stdout",
          "output_type": "stream",
          "text": [
            "geschatte prijs 53.1502 \n"
          ]
        }
      ],
      "source": [
        "y = -22.5688 + 1.0817 * 70\n",
        "print(\"geschatte prijs %.4f \" % y)"
      ]
    },
    {
      "cell_type": "code",
      "execution_count": 82,
      "metadata": {},
      "outputs": [
        {
          "name": "stdout",
          "output_type": "stream",
          "text": [
            "R ≈ 0.5035\n"
          ]
        }
      ],
      "source": [
        "cor = np.corrcoef(\n",
        "    dfrestaurants.totaalScore,\n",
        "    dfrestaurants.prijs)[0][1]\n",
        "print(f\"R ≈ {cor:.4f}\")"
      ]
    },
    {
      "cell_type": "code",
      "execution_count": 83,
      "metadata": {},
      "outputs": [
        {
          "data": {
            "text/html": [
              "<div>\n",
              "<style scoped>\n",
              "    .dataframe tbody tr th:only-of-type {\n",
              "        vertical-align: middle;\n",
              "    }\n",
              "\n",
              "    .dataframe tbody tr th {\n",
              "        vertical-align: top;\n",
              "    }\n",
              "\n",
              "    .dataframe thead th {\n",
              "        text-align: right;\n",
              "    }\n",
              "</style>\n",
              "<table border=\"1\" class=\"dataframe\">\n",
              "  <thead>\n",
              "    <tr style=\"text-align: right;\">\n",
              "      <th></th>\n",
              "      <th>index</th>\n",
              "      <th>naam</th>\n",
              "      <th>locatie</th>\n",
              "      <th>eten</th>\n",
              "      <th>decor</th>\n",
              "      <th>service</th>\n",
              "      <th>prijs</th>\n",
              "      <th>totaalScore</th>\n",
              "    </tr>\n",
              "  </thead>\n",
              "  <tbody>\n",
              "    <tr>\n",
              "      <th>0</th>\n",
              "      <td>0</td>\n",
              "      <td>101</td>\n",
              "      <td>NYC</td>\n",
              "      <td>20</td>\n",
              "      <td>18</td>\n",
              "      <td>17</td>\n",
              "      <td>38</td>\n",
              "      <td>55</td>\n",
              "    </tr>\n",
              "    <tr>\n",
              "      <th>1</th>\n",
              "      <td>1</td>\n",
              "      <td>12th St. Bar &amp; Grill</td>\n",
              "      <td>NYC</td>\n",
              "      <td>21</td>\n",
              "      <td>19</td>\n",
              "      <td>20</td>\n",
              "      <td>36</td>\n",
              "      <td>60</td>\n",
              "    </tr>\n",
              "    <tr>\n",
              "      <th>2</th>\n",
              "      <td>2</td>\n",
              "      <td>202 Café</td>\n",
              "      <td>NYC</td>\n",
              "      <td>21</td>\n",
              "      <td>17</td>\n",
              "      <td>18</td>\n",
              "      <td>32</td>\n",
              "      <td>56</td>\n",
              "    </tr>\n",
              "    <tr>\n",
              "      <th>3</th>\n",
              "      <td>3</td>\n",
              "      <td>212</td>\n",
              "      <td>NYC</td>\n",
              "      <td>17</td>\n",
              "      <td>17</td>\n",
              "      <td>16</td>\n",
              "      <td>45</td>\n",
              "      <td>50</td>\n",
              "    </tr>\n",
              "    <tr>\n",
              "      <th>4</th>\n",
              "      <td>4</td>\n",
              "      <td>24 Prince</td>\n",
              "      <td>NYC</td>\n",
              "      <td>18</td>\n",
              "      <td>17</td>\n",
              "      <td>15</td>\n",
              "      <td>34</td>\n",
              "      <td>50</td>\n",
              "    </tr>\n",
              "  </tbody>\n",
              "</table>\n",
              "</div>"
            ],
            "text/plain": [
              "   index                  naam locatie  eten  decor  service  prijs  \\\n",
              "0      0                   101     NYC    20     18       17     38   \n",
              "1      1  12th St. Bar & Grill     NYC    21     19       20     36   \n",
              "2      2              202 Café     NYC    21     17       18     32   \n",
              "3      3                   212     NYC    17     17       16     45   \n",
              "4      4             24 Prince     NYC    18     17       15     34   \n",
              "\n",
              "   totaalScore  \n",
              "0           55  \n",
              "1           60  \n",
              "2           56  \n",
              "3           50  \n",
              "4           50  "
            ]
          },
          "execution_count": 83,
          "metadata": {},
          "output_type": "execute_result"
        }
      ],
      "source": [
        "dfrestaurants.head()"
      ]
    },
    {
      "cell_type": "code",
      "execution_count": 87,
      "metadata": {},
      "outputs": [
        {
          "name": "stdout",
          "output_type": "stream",
          "text": [
            "De variatiecoëfficiënt 0.1292\n"
          ]
        }
      ],
      "source": [
        "# De variatiecoëfficiënt is een spreidingsmaat die onafhankelijk is van de eenheid waarin gegevens zijn uitgedrukt en wordt gedefinieerd als de standaarddeviatie gedeeld door het gemiddelde. Bereken de variatiecoëfficiënt voor *de score voor eten*.\n",
        "\n",
        "print(\"De variatiecoëfficiënt %.4f\" % (dfrestaurants.eten.std(ddof=1) / dfrestaurants.eten.mean()))"
      ]
    },
    {
      "cell_type": "code",
      "execution_count": 92,
      "metadata": {},
      "outputs": [
        {
          "name": "stdout",
          "output_type": "stream",
          "text": [
            "4\n"
          ]
        }
      ],
      "source": [
        "# 9. [1pt] Hoeveel restaurants zijn er in New York City met een *prijs* hoger dan \\$65 (\\$65 niet inbegrepren)?\n",
        "\n",
        "dfrestaurants = dfrestaurants[dfrestaurants.locatie == \"NYC\"]\n",
        "dfrestaurants = dfrestaurants[dfrestaurants.prijs > 65]\n",
        "\n",
        "print(len(dfrestaurants))"
      ]
    },
    {
      "cell_type": "code",
      "execution_count": null,
      "metadata": {},
      "outputs": [],
      "source": [
        "# 10. Zijn de *prijzen* in New York City significant ($\\alpha = 0.05$) hoger dan in Long Island?\n",
        "# \n",
        "    # - [0.5pt] Met welke statistische toets ga je dit bepalen?\n",
        "    # - [0.5pt] Formuleer de nulhypothese en de alternatieve hypothese\n",
        "    # - [1pt] Bereken de overschrijdingskans $p$\n",
        "    # - [1pt] Trek een besluit op basis van deze waarde en beantwoord de onderzoeksvraag.\n",
        "\n"
      ]
    },
    {
      "cell_type": "markdown",
      "metadata": {},
      "source": [
        "### Antwoord\n",
        "\n",
        "1. totaalScore = dfrestaurants.eten + dfrestaurants.decor + dfrestaurants.service\n",
        "\n",
        "2. sns.lmplot(data=dfrestaurants, x='totaalScore', y='prijs');\n",
        "\n",
        "3. Regression line: ŷ = -22.5688 + 1.0817 x\n",
        "\n",
        "4. geschatte prijs 53.1502 \n",
        "\n",
        "5. R ≈ 0.5035\n",
        "\n",
        "6. Er is een stijgende en matige lineaire relatie \n",
        "\n",
        "7. \n",
        "\n",
        "8. De variatiecoëfficiënt 0.1292\n",
        "\n",
        "9. 4\n",
        "\n",
        "10. "
      ]
    },
    {
      "attachments": {
        "image.png": {
          "image/png": "[encoded data removed]"
        }
      },
      "cell_type": "markdown",
      "metadata": {
        "id": "sDCbi_KEcoGH"
      },
      "source": [
        "----\n",
        "\n",
        "## Vraag 9 [7 pt]\n",
        "\n",
        "Hieronder staat de omzet van Wal-Mart per kwartaal (uitgedrukt in billion dollar)\n",
        "\n",
        "1. [1pt] Converteer de 'datum' naar het datatype datetime en stel deze in als index.\n",
        "\n",
        "2. [1pt] Maak de onderstaande plot.\n",
        "\n",
        "![image.png](attachment:image.png)\n",
        "\n",
        "3. Maak een voorspelling voor de omzet van het volgende boekhoudkundige jaar met behulp van de meest geschikte methode. Leg uit waarom je deze methode hebt gekozen [1pt]. Geef ook de voorspelde waarden [1pt].\n",
        "\n",
        "4. Maak een plot met de geobserveerde waarden, de door het model geschatte (*fitted*) waarden [1pt] en de voorspelling voor het volgende boekhoudkundige jaar [1pt].\n",
        "\n",
        "5. [1pt] In welk kwartaal zal de omzet voor het eerst meer dan $150 billion bedragen?"
      ]
    },
    {
      "cell_type": "code",
      "execution_count": 48,
      "metadata": {
        "colab": {
          "base_uri": "https://localhost:8080/",
          "height": 206
        },
        "collapsed": true,
        "id": "yAV6VeGaRZZq",
        "outputId": "fa01a57b-41b1-4da7-eb19-beb64184ed36"
      },
      "outputs": [
        {
          "data": {
            "text/plain": [
              "datum       datetime64[ns]\n",
              "kwartaal            object\n",
              "omzet              float64\n",
              "dtype: object"
            ]
          },
          "execution_count": 48,
          "metadata": {},
          "output_type": "execute_result"
        }
      ],
      "source": [
        "dfwalmart = pd.DataFrame(data={\n",
        "    'datum': ['2007/01/01', '2007/04/01', '2007/07/01', '2007/10/01', '2008/01/01', '2008/04/01', '2008/07/01', '2008/10/01','2009/01/01', '2009/04/01', '2009/07/01', '2009/10/01','2010/01/01', '2010/04/01', '2010/07/01', '2010/10/01','2011/01/01', '2011/04/01', '2011/07/01', '2011/10/01','2012/01/01', '2012/04/01', '2012/07/01', '2012/10/01'],\n",
        "    'kwartaal': ['2007-1','2007-2','2007-3','2007-4','2008-1','2008-2','2008-3','2008-4','2009-1','2009-2','2009-3','2009-4','2010-1','2010-2','2010-3','2010-4','2011-1','2011-2','2011-3','2011-4','2012-1','2011-2','2011-3','2011-4'],\n",
        "    'omzet': [79.6,84.5,83.5,98.1,86.4,93,91.9,107.3,95.3,102.7,98.6,107.9,93.5,100.9,99.4,113.7,99.1,103,101.2,115.6,103.4,108.6,109.5,122.3]\n",
        "})\n",
        "\n",
        "dfwalmart['datum'] = pd.to_datetime(dfwalmart['datum'])\n",
        "\n",
        "dfwalmart.dtypes"
      ]
    },
    {
      "cell_type": "code",
      "execution_count": 49,
      "metadata": {},
      "outputs": [
        {
          "data": {
            "text/html": [
              "<div>\n",
              "<style scoped>\n",
              "    .dataframe tbody tr th:only-of-type {\n",
              "        vertical-align: middle;\n",
              "    }\n",
              "\n",
              "    .dataframe tbody tr th {\n",
              "        vertical-align: top;\n",
              "    }\n",
              "\n",
              "    .dataframe thead th {\n",
              "        text-align: right;\n",
              "    }\n",
              "</style>\n",
              "<table border=\"1\" class=\"dataframe\">\n",
              "  <thead>\n",
              "    <tr style=\"text-align: right;\">\n",
              "      <th></th>\n",
              "      <th>kwartaal</th>\n",
              "      <th>omzet</th>\n",
              "    </tr>\n",
              "    <tr>\n",
              "      <th>datum</th>\n",
              "      <th></th>\n",
              "      <th></th>\n",
              "    </tr>\n",
              "  </thead>\n",
              "  <tbody>\n",
              "    <tr>\n",
              "      <th>2007-01-01</th>\n",
              "      <td>2007-1</td>\n",
              "      <td>79.6</td>\n",
              "    </tr>\n",
              "    <tr>\n",
              "      <th>2007-04-01</th>\n",
              "      <td>2007-2</td>\n",
              "      <td>84.5</td>\n",
              "    </tr>\n",
              "    <tr>\n",
              "      <th>2007-07-01</th>\n",
              "      <td>2007-3</td>\n",
              "      <td>83.5</td>\n",
              "    </tr>\n",
              "    <tr>\n",
              "      <th>2007-10-01</th>\n",
              "      <td>2007-4</td>\n",
              "      <td>98.1</td>\n",
              "    </tr>\n",
              "    <tr>\n",
              "      <th>2008-01-01</th>\n",
              "      <td>2008-1</td>\n",
              "      <td>86.4</td>\n",
              "    </tr>\n",
              "  </tbody>\n",
              "</table>\n",
              "</div>"
            ],
            "text/plain": [
              "           kwartaal  omzet\n",
              "datum                     \n",
              "2007-01-01   2007-1   79.6\n",
              "2007-04-01   2007-2   84.5\n",
              "2007-07-01   2007-3   83.5\n",
              "2007-10-01   2007-4   98.1\n",
              "2008-01-01   2008-1   86.4"
            ]
          },
          "execution_count": 49,
          "metadata": {},
          "output_type": "execute_result"
        }
      ],
      "source": [
        "dfwalmart = dfwalmart.set_index('datum')\n",
        "dfwalmart.head()"
      ]
    },
    {
      "cell_type": "code",
      "execution_count": 50,
      "metadata": {},
      "outputs": [
        {
          "data": {
            "text/plain": [
              "<Axes: xlabel='datum'>"
            ]
          },
          "execution_count": 50,
          "metadata": {},
          "output_type": "execute_result"
        },
        {
          "data": {
            "image/png": "[encoded data removed]",
            "text/plain": [
              "<Figure size 1000x500 with 1 Axes>"
            ]
          },
          "metadata": {},
          "output_type": "display_data"
        }
      ],
      "source": [
        "dfwalmart.plot(y='omzet', figsize=[10,5])"
      ]
    },
    {
      "cell_type": "code",
      "execution_count": 62,
      "metadata": {},
      "outputs": [
        {
          "name": "stderr",
          "output_type": "stream",
          "text": [
            "c:\\Python312\\Lib\\site-packages\\statsmodels\\tsa\\base\\tsa_model.py:473: ValueWarning: No frequency information was provided, so inferred frequency QS-OCT will be used.\n",
            "  self._init_dates(dates, freq)\n",
            "C:\\Users\\deniz\\AppData\\Roaming\\Python\\Python312\\site-packages\\pandas\\util\\_decorators.py:213: EstimationWarning: Model has no free parameters to estimate. Set optimized=False to suppress this warning\n",
            "  return func(*args, **kwargs)\n"
          ]
        }
      ],
      "source": [
        "from statsmodels.tsa.holtwinters import ExponentialSmoothing\n",
        "from statsmodels.tsa.api import Holt\n",
        "\n",
        "\n",
        "# hier trainen we ons model\n",
        "\n",
        "train = dfwalmart.omzet\n",
        "\n",
        "data_des = Holt(train).fit(smoothing_level=.1, smoothing_trend=.2)\n",
        "# dfwalmart_hw = ExponentialSmoothing(train, trend='add', seasonal='add', seasonal_periods=12, freq='M').fit()\n",
        "\n",
        "data_des_predicted = data_des.forecast(12)"
      ]
    },
    {
      "cell_type": "markdown",
      "metadata": {},
      "source": [
        "### Antwoord\n",
        "\n",
        "1. `dfwalmart['datum'] = pd.to_datetime(dfwalmart['datum'])` en `dfwalmart = dfwalmart.set_index('datum')`\n",
        "\n",
        "2. `dfwalmart.plot(y='omzet', figsize=[10,5])`\n",
        "\n",
        "3. Holt/Double exponential smoothing want er is een trend in de data \n",
        "\n",
        "4. \n",
        "\n",
        "5. "
      ]
    },
    {
      "cell_type": "markdown",
      "metadata": {
        "id": "Cj9eAeB_s3uP"
      },
      "source": [
        "----\n",
        "\n",
        "## Vraag 10 [4 pt] \n",
        "\n",
        "Een handelaar verhuurt industriële hogedrukreinigers. De vraag per dag naar deze toestellen kan als volgt worden beschreven:\n",
        "\n",
        "| _x_      | 0    |    1 |    2 |    3 |\n",
        "| :---     | :--- | :--- | :--- | :--- |\n",
        "| _P(X=x)_ | 0.15 | 0.40 | 0.30 | 0.15 |\n",
        "\n",
        "Het beschikbaar houden van zo'n toestel kost 300 EUR per dag, terwijl de huurprijs 700 EUR per dag is. De manager vraagt zich af wat het meest zal opbrengen: 2 toestellen of 3 toestellen per dag beschikbaar stellen.\n",
        "\n",
        "1. Bepaal de kansfunctie voor:\n",
        "   \n",
        "    - [1pt] Kansvariabele _Y_, de winst wanneer er 2 toestellen beschikbaar zijn\n",
        "    - [1pt] Kansvariabele _W_, de winst wanneer er 3 toestellen beschikbaar zijn\n",
        "\n",
        "2. [1pt] Wat is de verwachte winst in beide gevallen? M.a.w. bereken $E[Y]$ en $E[W]$.\n",
        "3. [1pt] Wat is de optimale keuze voor de handelaar?"
      ]
    },
    {
      "cell_type": "markdown",
      "metadata": {},
      "source": [
        "### Antwoord\n",
        "\n",
        "1. P(Y)\n",
        "\n",
        "2. "
      ]
    }
  ],
  "metadata": {
    "colab": {
      "provenance": []
    },
    "kernelspec": {
      "display_name": "Python 3",
      "name": "python3"
    },
    "language_info": {
      "codemirror_mode": {
        "name": "ipython",
        "version": 3
      },
      "file_extension": ".py",
      "mimetype": "text/x-python",
      "name": "python",
      "nbconvert_exporter": "python",
      "pygments_lexer": "ipython3",
      "version": "3.12.1"
    }
  },
  "nbformat": 4,
  "nbformat_minor": 0
}
